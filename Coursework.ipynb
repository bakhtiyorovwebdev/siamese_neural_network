{
 "cells": [
  {
   "cell_type": "markdown",
   "id": "6c4bc34e",
   "metadata": {},
   "source": [
    "# 1 Install Dependencies"
   ]
  },
  {
   "cell_type": "code",
   "execution_count": 1,
   "id": "45eff58b",
   "metadata": {
    "collapsed": true
   },
   "outputs": [
    {
     "name": "stdout",
     "output_type": "stream",
     "text": [
      "Requirement already satisfied: tensorflow in /Applications/anaconda3/lib/python3.11/site-packages (2.14.0)\n",
      "Requirement already satisfied: tensorflow-macos==2.14.0 in /Applications/anaconda3/lib/python3.11/site-packages (from tensorflow) (2.14.0)\n",
      "Requirement already satisfied: absl-py>=1.0.0 in /Applications/anaconda3/lib/python3.11/site-packages (from tensorflow-macos==2.14.0->tensorflow) (2.0.0)\n",
      "Requirement already satisfied: astunparse>=1.6.0 in /Applications/anaconda3/lib/python3.11/site-packages (from tensorflow-macos==2.14.0->tensorflow) (1.6.3)\n",
      "Requirement already satisfied: flatbuffers>=23.5.26 in /Applications/anaconda3/lib/python3.11/site-packages (from tensorflow-macos==2.14.0->tensorflow) (23.5.26)\n",
      "Requirement already satisfied: gast!=0.5.0,!=0.5.1,!=0.5.2,>=0.2.1 in /Applications/anaconda3/lib/python3.11/site-packages (from tensorflow-macos==2.14.0->tensorflow) (0.4.0)\n",
      "Requirement already satisfied: google-pasta>=0.1.1 in /Applications/anaconda3/lib/python3.11/site-packages (from tensorflow-macos==2.14.0->tensorflow) (0.2.0)\n",
      "Requirement already satisfied: h5py>=2.9.0 in /Applications/anaconda3/lib/python3.11/site-packages (from tensorflow-macos==2.14.0->tensorflow) (3.7.0)\n",
      "Requirement already satisfied: libclang>=13.0.0 in /Applications/anaconda3/lib/python3.11/site-packages (from tensorflow-macos==2.14.0->tensorflow) (16.0.6)\n",
      "Requirement already satisfied: ml-dtypes==0.2.0 in /Applications/anaconda3/lib/python3.11/site-packages (from tensorflow-macos==2.14.0->tensorflow) (0.2.0)\n",
      "Requirement already satisfied: numpy>=1.23.5 in /Applications/anaconda3/lib/python3.11/site-packages (from tensorflow-macos==2.14.0->tensorflow) (1.24.3)\n",
      "Requirement already satisfied: opt-einsum>=2.3.2 in /Applications/anaconda3/lib/python3.11/site-packages (from tensorflow-macos==2.14.0->tensorflow) (3.3.0)\n",
      "Requirement already satisfied: packaging in /Applications/anaconda3/lib/python3.11/site-packages (from tensorflow-macos==2.14.0->tensorflow) (23.0)\n",
      "Requirement already satisfied: protobuf!=4.21.0,!=4.21.1,!=4.21.2,!=4.21.3,!=4.21.4,!=4.21.5,<5.0.0dev,>=3.20.3 in /Applications/anaconda3/lib/python3.11/site-packages (from tensorflow-macos==2.14.0->tensorflow) (4.24.4)\n",
      "Requirement already satisfied: setuptools in /Applications/anaconda3/lib/python3.11/site-packages (from tensorflow-macos==2.14.0->tensorflow) (68.0.0)\n",
      "Requirement already satisfied: six>=1.12.0 in /Applications/anaconda3/lib/python3.11/site-packages (from tensorflow-macos==2.14.0->tensorflow) (1.16.0)\n",
      "Requirement already satisfied: termcolor>=1.1.0 in /Applications/anaconda3/lib/python3.11/site-packages (from tensorflow-macos==2.14.0->tensorflow) (2.3.0)\n",
      "Requirement already satisfied: typing-extensions>=3.6.6 in /Applications/anaconda3/lib/python3.11/site-packages (from tensorflow-macos==2.14.0->tensorflow) (4.5.0)\n",
      "Requirement already satisfied: wrapt<1.15,>=1.11.0 in /Applications/anaconda3/lib/python3.11/site-packages (from tensorflow-macos==2.14.0->tensorflow) (1.14.1)\n",
      "Requirement already satisfied: tensorflow-io-gcs-filesystem>=0.23.1 in /Applications/anaconda3/lib/python3.11/site-packages (from tensorflow-macos==2.14.0->tensorflow) (0.34.0)\n",
      "Requirement already satisfied: grpcio<2.0,>=1.24.3 in /Applications/anaconda3/lib/python3.11/site-packages (from tensorflow-macos==2.14.0->tensorflow) (1.59.0)\n",
      "Requirement already satisfied: tensorboard<2.15,>=2.14 in /Applications/anaconda3/lib/python3.11/site-packages (from tensorflow-macos==2.14.0->tensorflow) (2.14.1)\n",
      "Requirement already satisfied: tensorflow-estimator<2.15,>=2.14.0 in /Applications/anaconda3/lib/python3.11/site-packages (from tensorflow-macos==2.14.0->tensorflow) (2.14.0)\n",
      "Requirement already satisfied: keras<2.15,>=2.14.0 in /Applications/anaconda3/lib/python3.11/site-packages (from tensorflow-macos==2.14.0->tensorflow) (2.14.0)\n",
      "Requirement already satisfied: wheel<1.0,>=0.23.0 in /Applications/anaconda3/lib/python3.11/site-packages (from astunparse>=1.6.0->tensorflow-macos==2.14.0->tensorflow) (0.38.4)\n",
      "Requirement already satisfied: google-auth<3,>=1.6.3 in /Applications/anaconda3/lib/python3.11/site-packages (from tensorboard<2.15,>=2.14->tensorflow-macos==2.14.0->tensorflow) (2.23.3)\n",
      "Requirement already satisfied: google-auth-oauthlib<1.1,>=0.5 in /Applications/anaconda3/lib/python3.11/site-packages (from tensorboard<2.15,>=2.14->tensorflow-macos==2.14.0->tensorflow) (1.0.0)\n",
      "Requirement already satisfied: markdown>=2.6.8 in /Applications/anaconda3/lib/python3.11/site-packages (from tensorboard<2.15,>=2.14->tensorflow-macos==2.14.0->tensorflow) (3.4.1)\n",
      "Requirement already satisfied: requests<3,>=2.21.0 in /Applications/anaconda3/lib/python3.11/site-packages (from tensorboard<2.15,>=2.14->tensorflow-macos==2.14.0->tensorflow) (2.31.0)\n",
      "Requirement already satisfied: tensorboard-data-server<0.8.0,>=0.7.0 in /Applications/anaconda3/lib/python3.11/site-packages (from tensorboard<2.15,>=2.14->tensorflow-macos==2.14.0->tensorflow) (0.7.1)\n",
      "Requirement already satisfied: werkzeug>=1.0.1 in /Applications/anaconda3/lib/python3.11/site-packages (from tensorboard<2.15,>=2.14->tensorflow-macos==2.14.0->tensorflow) (2.2.3)\n",
      "Requirement already satisfied: cachetools<6.0,>=2.0.0 in /Applications/anaconda3/lib/python3.11/site-packages (from google-auth<3,>=1.6.3->tensorboard<2.15,>=2.14->tensorflow-macos==2.14.0->tensorflow) (5.3.1)\n",
      "Requirement already satisfied: pyasn1-modules>=0.2.1 in /Applications/anaconda3/lib/python3.11/site-packages (from google-auth<3,>=1.6.3->tensorboard<2.15,>=2.14->tensorflow-macos==2.14.0->tensorflow) (0.2.8)\n",
      "Requirement already satisfied: rsa<5,>=3.1.4 in /Applications/anaconda3/lib/python3.11/site-packages (from google-auth<3,>=1.6.3->tensorboard<2.15,>=2.14->tensorflow-macos==2.14.0->tensorflow) (4.9)\n",
      "Requirement already satisfied: requests-oauthlib>=0.7.0 in /Applications/anaconda3/lib/python3.11/site-packages (from google-auth-oauthlib<1.1,>=0.5->tensorboard<2.15,>=2.14->tensorflow-macos==2.14.0->tensorflow) (1.3.1)\n",
      "Requirement already satisfied: charset-normalizer<4,>=2 in /Applications/anaconda3/lib/python3.11/site-packages (from requests<3,>=2.21.0->tensorboard<2.15,>=2.14->tensorflow-macos==2.14.0->tensorflow) (2.0.4)\n",
      "Requirement already satisfied: idna<4,>=2.5 in /Applications/anaconda3/lib/python3.11/site-packages (from requests<3,>=2.21.0->tensorboard<2.15,>=2.14->tensorflow-macos==2.14.0->tensorflow) (3.4)\n",
      "Requirement already satisfied: urllib3<3,>=1.21.1 in /Applications/anaconda3/lib/python3.11/site-packages (from requests<3,>=2.21.0->tensorboard<2.15,>=2.14->tensorflow-macos==2.14.0->tensorflow) (1.26.16)\n",
      "Requirement already satisfied: certifi>=2017.4.17 in /Applications/anaconda3/lib/python3.11/site-packages (from requests<3,>=2.21.0->tensorboard<2.15,>=2.14->tensorflow-macos==2.14.0->tensorflow) (2023.7.22)\n",
      "Requirement already satisfied: MarkupSafe>=2.1.1 in /Applications/anaconda3/lib/python3.11/site-packages (from werkzeug>=1.0.1->tensorboard<2.15,>=2.14->tensorflow-macos==2.14.0->tensorflow) (2.1.1)\n",
      "Requirement already satisfied: pyasn1<0.5.0,>=0.4.6 in /Applications/anaconda3/lib/python3.11/site-packages (from pyasn1-modules>=0.2.1->google-auth<3,>=1.6.3->tensorboard<2.15,>=2.14->tensorflow-macos==2.14.0->tensorflow) (0.4.8)\n",
      "Requirement already satisfied: oauthlib>=3.0.0 in /Applications/anaconda3/lib/python3.11/site-packages (from requests-oauthlib>=0.7.0->google-auth-oauthlib<1.1,>=0.5->tensorboard<2.15,>=2.14->tensorflow-macos==2.14.0->tensorflow) (3.2.2)\n"
     ]
    }
   ],
   "source": [
    "!pip install tensorflow"
   ]
  },
  {
   "cell_type": "code",
   "execution_count": 2,
   "id": "b8b7c995",
   "metadata": {
    "collapsed": true
   },
   "outputs": [
    {
     "name": "stdout",
     "output_type": "stream",
     "text": [
      "Requirement already satisfied: opencv-python in /Applications/anaconda3/lib/python3.11/site-packages (4.8.1.78)\r\n",
      "Requirement already satisfied: numpy>=1.21.2 in /Applications/anaconda3/lib/python3.11/site-packages (from opencv-python) (1.24.3)\r\n"
     ]
    }
   ],
   "source": [
    "!pip install opencv-python"
   ]
  },
  {
   "cell_type": "code",
   "execution_count": 3,
   "id": "c3884a46",
   "metadata": {
    "collapsed": true
   },
   "outputs": [
    {
     "name": "stdout",
     "output_type": "stream",
     "text": [
      "Requirement already satisfied: matplotlib in /Applications/anaconda3/lib/python3.11/site-packages (3.7.1)\n",
      "Requirement already satisfied: contourpy>=1.0.1 in /Applications/anaconda3/lib/python3.11/site-packages (from matplotlib) (1.0.5)\n",
      "Requirement already satisfied: cycler>=0.10 in /Applications/anaconda3/lib/python3.11/site-packages (from matplotlib) (0.11.0)\n",
      "Requirement already satisfied: fonttools>=4.22.0 in /Applications/anaconda3/lib/python3.11/site-packages (from matplotlib) (4.25.0)\n",
      "Requirement already satisfied: kiwisolver>=1.0.1 in /Applications/anaconda3/lib/python3.11/site-packages (from matplotlib) (1.4.4)\n",
      "Requirement already satisfied: numpy>=1.20 in /Applications/anaconda3/lib/python3.11/site-packages (from matplotlib) (1.24.3)\n",
      "Requirement already satisfied: packaging>=20.0 in /Applications/anaconda3/lib/python3.11/site-packages (from matplotlib) (23.0)\n",
      "Requirement already satisfied: pillow>=6.2.0 in /Applications/anaconda3/lib/python3.11/site-packages (from matplotlib) (9.4.0)\n",
      "Requirement already satisfied: pyparsing>=2.3.1 in /Applications/anaconda3/lib/python3.11/site-packages (from matplotlib) (3.0.9)\n",
      "Requirement already satisfied: python-dateutil>=2.7 in /Applications/anaconda3/lib/python3.11/site-packages (from matplotlib) (2.8.2)\n",
      "Requirement already satisfied: six>=1.5 in /Applications/anaconda3/lib/python3.11/site-packages (from python-dateutil>=2.7->matplotlib) (1.16.0)\n"
     ]
    }
   ],
   "source": [
    "!pip install matplotlib "
   ]
  },
  {
   "cell_type": "markdown",
   "id": "e91464b2",
   "metadata": {},
   "source": [
    "# 1.1 Import Dependencies"
   ]
  },
  {
   "cell_type": "code",
   "execution_count": 4,
   "id": "cadb5d02",
   "metadata": {},
   "outputs": [],
   "source": [
    "import cv2"
   ]
  },
  {
   "cell_type": "code",
   "execution_count": 5,
   "id": "4e764ad1",
   "metadata": {},
   "outputs": [],
   "source": [
    "from tensorflow.keras.optimizers import Adam"
   ]
  },
  {
   "cell_type": "code",
   "execution_count": 6,
   "id": "b0078f27",
   "metadata": {},
   "outputs": [],
   "source": [
    "import os"
   ]
  },
  {
   "cell_type": "code",
   "execution_count": 7,
   "id": "77354a61",
   "metadata": {},
   "outputs": [],
   "source": [
    "import random"
   ]
  },
  {
   "cell_type": "code",
   "execution_count": 8,
   "id": "516f1684",
   "metadata": {},
   "outputs": [],
   "source": [
    "import numpy as np"
   ]
  },
  {
   "cell_type": "code",
   "execution_count": 9,
   "id": "e088dd36",
   "metadata": {},
   "outputs": [],
   "source": [
    "import matplotlib.pyplot as plt"
   ]
  },
  {
   "cell_type": "code",
   "execution_count": 10,
   "id": "8f272b45",
   "metadata": {},
   "outputs": [],
   "source": [
    "from tensorflow.keras.models import Model"
   ]
  },
  {
   "cell_type": "code",
   "execution_count": 11,
   "id": "f02376e8",
   "metadata": {},
   "outputs": [],
   "source": [
    "from tensorflow.keras.layers import Layer, Conv2D, Dense, MaxPooling2D, Input, Flatten"
   ]
  },
  {
   "cell_type": "code",
   "execution_count": 12,
   "id": "1636ded7",
   "metadata": {},
   "outputs": [],
   "source": [
    "import tensorflow as tf"
   ]
  },
  {
   "cell_type": "markdown",
   "id": "add7bba9",
   "metadata": {},
   "source": [
    "# 1.2 Create Folder Structures"
   ]
  },
  {
   "cell_type": "code",
   "execution_count": 13,
   "id": "71c87d00",
   "metadata": {},
   "outputs": [],
   "source": [
    "POS_PATH = os.path.join('data', 'positive')\n",
    "NEG_PATH = os.path.join('data', 'negative')\n",
    "ANC_PATH = os.path.join('data', 'anchor')"
   ]
  },
  {
   "cell_type": "code",
   "execution_count": 15,
   "id": "7723b0ad",
   "metadata": {
    "collapsed": true
   },
   "outputs": [
    {
     "ename": "FileExistsError",
     "evalue": "[Errno 17] File exists: 'data/positive'",
     "output_type": "error",
     "traceback": [
      "\u001b[0;31m---------------------------------------------------------------------------\u001b[0m",
      "\u001b[0;31mFileExistsError\u001b[0m                           Traceback (most recent call last)",
      "Cell \u001b[0;32mIn[15], line 1\u001b[0m\n\u001b[0;32m----> 1\u001b[0m os\u001b[38;5;241m.\u001b[39mmakedirs(POS_PATH)\n\u001b[1;32m      2\u001b[0m os\u001b[38;5;241m.\u001b[39mmakedirs(NEG_PATH)\n\u001b[1;32m      3\u001b[0m os\u001b[38;5;241m.\u001b[39mmakedirs(ANC_PATH)\n",
      "File \u001b[0;32m<frozen os>:225\u001b[0m, in \u001b[0;36mmakedirs\u001b[0;34m(name, mode, exist_ok)\u001b[0m\n",
      "\u001b[0;31mFileExistsError\u001b[0m: [Errno 17] File exists: 'data/positive'"
     ]
    }
   ],
   "source": [
    "os.makedirs(POS_PATH)\n",
    "os.makedirs(NEG_PATH)\n",
    "os.makedirs(ANC_PATH)\n"
   ]
  },
  {
   "cell_type": "markdown",
   "id": "aa9bcf73",
   "metadata": {},
   "source": [
    "# 2 Collect Positives and Anchors"
   ]
  },
  {
   "cell_type": "markdown",
   "id": "52db0b66",
   "metadata": {},
   "source": [
    "# 2.1 Untar Labelled Faces in the Wild Dataset"
   ]
  },
  {
   "cell_type": "code",
   "execution_count": 16,
   "id": "9715976a",
   "metadata": {},
   "outputs": [],
   "source": [
    "!tar -xf lfw.tar"
   ]
  },
  {
   "cell_type": "code",
   "execution_count": 17,
   "id": "0a53e514",
   "metadata": {},
   "outputs": [],
   "source": [
    "for directory in os.listdir('lfw'):\n",
    "    for file in os.listdir(os.path.join('lfw', directory)):\n",
    "        EX_PATH = os.path.join('lfw', directory, file)\n",
    "        NEW_PATH = os.path.join(NEG_PATH, file)\n",
    "        os.replace(EX_PATH, NEW_PATH)"
   ]
  },
  {
   "cell_type": "markdown",
   "id": "94c1c773",
   "metadata": {},
   "source": [
    "# 2.2 Collect Positive and Anchor Classes"
   ]
  },
  {
   "cell_type": "code",
   "execution_count": 18,
   "id": "69de7624",
   "metadata": {},
   "outputs": [],
   "source": [
    "#Import UUID Library to generate unique names for images\n",
    "import uuid"
   ]
  },
  {
   "cell_type": "code",
   "execution_count": 19,
   "id": "5d0144f8",
   "metadata": {},
   "outputs": [],
   "source": [
    "cap = cv2.VideoCapture(0-0)\n",
    "while cap.isOpened():\n",
    "    \n",
    "    #Frame\n",
    "    ret, frame = cap.read()\n",
    "    \n",
    "    #Collect anchors\n",
    "    if cv2.waitKey(1) & 0XFF == ord('a'):\n",
    "        #Create the unique file path\n",
    "        imgname = os.path.join(ANC_PATH, '{}.jpg' .format(uuid.uuid1()))\n",
    "        #Write out anchor image\n",
    "        cv2.imwrite(imgname, frame)\n",
    "            \n",
    "    #Collect positives\n",
    "    if cv2.waitKey(1) & 0XFF == ord('p'):\n",
    "        #Create the unique file path\n",
    "        imgname = os.path.join(POS_PATH, '{}.jpg' .format(uuid.uuid1()))\n",
    "        #Write out anchor image\n",
    "        cv2.imwrite(imgname, frame)\n",
    "    \n",
    "    #Show image back to screen \n",
    "    cv2.imshow('Image Collection', frame)\n",
    "    \n",
    "    #Braking gracefully\n",
    "    if cv2.waitKey(1) & 0XFF == ord('q'):\n",
    "        break\n",
    "cap.release()\n",
    "cv2.destroyAllWindows()"
   ]
  },
  {
   "cell_type": "markdown",
   "id": "8f0cd3c6",
   "metadata": {},
   "source": [
    "# 3 Load and Preprocess Images"
   ]
  },
  {
   "cell_type": "markdown",
   "id": "b26757a1",
   "metadata": {},
   "source": [
    "# 3.1 Get image directories"
   ]
  },
  {
   "cell_type": "code",
   "execution_count": 20,
   "id": "2f506010",
   "metadata": {},
   "outputs": [
    {
     "name": "stdout",
     "output_type": "stream",
     "text": [
      "ANC_PATH: data/anchor\n",
      "POS_PATH: data/positive\n",
      "NEG_PATH: data/negative\n"
     ]
    }
   ],
   "source": [
    "print(\"ANC_PATH:\", ANC_PATH)\n",
    "print(\"POS_PATH:\", POS_PATH)\n",
    "print(\"NEG_PATH:\", NEG_PATH)\n",
    "\n",
    "anchor = tf.data.Dataset.list_files(ANC_PATH + '/*.jpg').take(10)\n",
    "positive = tf.data.Dataset.list_files(POS_PATH + '/*.jpg').take(10)\n",
    "negative = tf.data.Dataset.list_files(NEG_PATH + '/*.jpg').take(10)"
   ]
  },
  {
   "cell_type": "markdown",
   "id": "82638dcd",
   "metadata": {},
   "source": [
    "# 3.2 Preprocessing - Scale and Resize"
   ]
  },
  {
   "cell_type": "code",
   "execution_count": 21,
   "id": "cfecd9cc",
   "metadata": {},
   "outputs": [],
   "source": [
    "def preprocess(file_path):\n",
    "    try:\n",
    "        byte_img = tf.io.read_file(file_path)\n",
    "        img = tf.image.decode_jpeg(byte_img)\n",
    "        if img is None:\n",
    "            raise ValueError(\"Failed to decode image.\")\n",
    "        img = tf.image.resize(img, (105, 105))\n",
    "        img = img / 255.0\n",
    "        return img\n",
    "    except Exception as e:\n",
    "        print(f\"Error in preprocessing: {e}\")\n",
    "        return None"
   ]
  },
  {
   "cell_type": "code",
   "execution_count": 22,
   "id": "7b2dcb96",
   "metadata": {},
   "outputs": [],
   "source": [
    "dir_test = anchor.as_numpy_iterator()"
   ]
  },
  {
   "cell_type": "code",
   "execution_count": 23,
   "id": "b52f128c",
   "metadata": {},
   "outputs": [
    {
     "name": "stdout",
     "output_type": "stream",
     "text": [
      "b'data/anchor/a7aeaf3a-832e-11ee-a379-c2215609a551.jpg'\n"
     ]
    }
   ],
   "source": [
    "print(dir_test.next())"
   ]
  },
  {
   "cell_type": "code",
   "execution_count": 24,
   "id": "7cfde6c3",
   "metadata": {},
   "outputs": [],
   "source": [
    "img = preprocess('data/anchor/db7c25cc-6eed-11ee-a243-c2215609a551.jpg')"
   ]
  },
  {
   "cell_type": "code",
   "execution_count": 25,
   "id": "de76ed4f",
   "metadata": {},
   "outputs": [
    {
     "data": {
      "text/plain": [
       "0.99971986"
      ]
     },
     "execution_count": 25,
     "metadata": {},
     "output_type": "execute_result"
    }
   ],
   "source": [
    "img.numpy().max()"
   ]
  },
  {
   "cell_type": "code",
   "execution_count": 26,
   "id": "20d8a4d4",
   "metadata": {},
   "outputs": [
    {
     "data": {
      "text/plain": [
       "<matplotlib.image.AxesImage at 0x16c4ee190>"
      ]
     },
     "execution_count": 26,
     "metadata": {},
     "output_type": "execute_result"
    },
    {
     "data": {
      "image/png": "[encoded data removed]",
      "text/plain": [
       "<Figure size 640x480 with 1 Axes>"
      ]
     },
     "metadata": {},
     "output_type": "display_data"
    }
   ],
   "source": [
    "plt.imshow(img)"
   ]
  },
  {
   "cell_type": "markdown",
   "id": "2f8b9323",
   "metadata": {},
   "source": [
    "# 3.3 Create Labelled Dataset"
   ]
  },
  {
   "cell_type": "code",
   "execution_count": 27,
   "id": "6287e9f4",
   "metadata": {},
   "outputs": [],
   "source": [
    "# (anchor, positive) => 1,1,1,1,1\n",
    "# (anchor, negative) => 0,0,0,0,0"
   ]
  },
  {
   "cell_type": "code",
   "execution_count": 28,
   "id": "922f0ab5",
   "metadata": {},
   "outputs": [],
   "source": [
    "positives = tf.data.Dataset.zip((anchor, positive, tf.data.Dataset.from_tensor_slices(tf.ones(len(anchor)))))\n",
    "negatives = tf.data.Dataset.zip((anchor, negative, tf.data.Dataset.from_tensor_slices(tf.zeros(len(anchor)))))\n",
    "data = positives.concatenate(negatives)"
   ]
  },
  {
   "cell_type": "code",
   "execution_count": 29,
   "id": "bef7d4ab",
   "metadata": {},
   "outputs": [
    {
     "data": {
      "text/plain": [
       "<_ConcatenateDataset element_spec=(TensorSpec(shape=(), dtype=tf.string, name=None), TensorSpec(shape=(), dtype=tf.string, name=None), TensorSpec(shape=(), dtype=tf.float32, name=None))>"
      ]
     },
     "execution_count": 29,
     "metadata": {},
     "output_type": "execute_result"
    }
   ],
   "source": [
    "data"
   ]
  },
  {
   "cell_type": "code",
   "execution_count": 30,
   "id": "1db0cdc4",
   "metadata": {},
   "outputs": [],
   "source": [
    "samples = data.as_numpy_iterator()"
   ]
  },
  {
   "cell_type": "code",
   "execution_count": 31,
   "id": "d56c5065",
   "metadata": {},
   "outputs": [],
   "source": [
    "example = samples.next()"
   ]
  },
  {
   "cell_type": "code",
   "execution_count": 32,
   "id": "cf2cabf9",
   "metadata": {},
   "outputs": [
    {
     "data": {
      "text/plain": [
       "(b'data/anchor/6df160f8-82d9-11ee-be0a-c2215609a552.jpg',\n",
       " b'data/positive/232c7548-6eee-11ee-a243-c2215609a551.jpg',\n",
       " 1.0)"
      ]
     },
     "execution_count": 32,
     "metadata": {},
     "output_type": "execute_result"
    }
   ],
   "source": [
    "example"
   ]
  },
  {
   "cell_type": "markdown",
   "id": "2d4c216e",
   "metadata": {},
   "source": [
    "# 3.4 Build Train and Test Partition"
   ]
  },
  {
   "cell_type": "code",
   "execution_count": 33,
   "id": "0dacc66b",
   "metadata": {},
   "outputs": [],
   "source": [
    "def preprocess_twin(input_img, validation_img, label):\n",
    "    return(preprocess(input_img), preprocess(validation_img), label)"
   ]
  },
  {
   "cell_type": "code",
   "execution_count": 34,
   "id": "f5137117",
   "metadata": {},
   "outputs": [],
   "source": [
    "res = preprocess_twin(*example)"
   ]
  },
  {
   "cell_type": "code",
   "execution_count": 35,
   "id": "7b36d8a3",
   "metadata": {},
   "outputs": [
    {
     "data": {
      "text/plain": [
       "3"
      ]
     },
     "execution_count": 35,
     "metadata": {},
     "output_type": "execute_result"
    }
   ],
   "source": [
    "len(res)"
   ]
  },
  {
   "cell_type": "code",
   "execution_count": 36,
   "id": "cc796269",
   "metadata": {},
   "outputs": [],
   "source": [
    "#Build dataloader pipeline\n",
    "data = data.map(preprocess_twin)\n",
    "data = data.cache()\n",
    "data = data.shuffle(buffer_size=1024)"
   ]
  },
  {
   "cell_type": "code",
   "execution_count": 37,
   "id": "7fed700d",
   "metadata": {},
   "outputs": [],
   "source": [
    "#Training partition\n",
    "train_data = data.take(round(len(data)*.7))\n",
    "train_data = train_data.batch(16)\n",
    "train_data = train_data.prefetch(8) "
   ]
  },
  {
   "cell_type": "code",
   "execution_count": 38,
   "id": "ab928de2",
   "metadata": {},
   "outputs": [],
   "source": [
    "train_samples = train_data.as_numpy_iterator()"
   ]
  },
  {
   "cell_type": "code",
   "execution_count": 39,
   "id": "9bcbc4a6",
   "metadata": {},
   "outputs": [],
   "source": [
    "train_sample = train_samples.next()"
   ]
  },
  {
   "cell_type": "code",
   "execution_count": 40,
   "id": "e1c2493c",
   "metadata": {},
   "outputs": [
    {
     "data": {
      "text/plain": [
       "6"
      ]
     },
     "execution_count": 40,
     "metadata": {},
     "output_type": "execute_result"
    }
   ],
   "source": [
    "round(len(data)*.3)"
   ]
  },
  {
   "cell_type": "code",
   "execution_count": 41,
   "id": "1ea90d93",
   "metadata": {},
   "outputs": [],
   "source": [
    "#Testing partition \n",
    "test_data = data.skip(round(len(data)*.7))\n",
    "test_data = test_data.take(round(len(data)*.3))\n",
    "test_data = test_data.batch(16)\n",
    "test_data = test_data.prefetch(8)"
   ]
  },
  {
   "cell_type": "markdown",
   "id": "e0197787",
   "metadata": {},
   "source": [
    "# 4 Model Engineering"
   ]
  },
  {
   "cell_type": "markdown",
   "id": "ed1a99f4",
   "metadata": {},
   "source": [
    "# 4.1 Build Embedding Layer"
   ]
  },
  {
   "cell_type": "code",
   "execution_count": 42,
   "id": "7be91c45",
   "metadata": {},
   "outputs": [],
   "source": [
    "def make_embedding():\n",
    "    inp = Input(shape=(105,105,3), name='input_image')\n",
    "    \n",
    "    #First block\n",
    "    c1 = Conv2D(64, (10, 10), activation ='relu')(inp)\n",
    "    m1 = MaxPooling2D(64,(2,2), padding='same')(c1)\n",
    "    \n",
    "    #Second block\n",
    "    c2 = Conv2D(128, (7,7), activation ='relu')(m1)\n",
    "    m2 = MaxPooling2D(64, (2,2), padding='same')(c2)\n",
    "    \n",
    "    #Third block\n",
    "    c3 = Conv2D(128, (4,4), activation='relu')(m2)\n",
    "    m3 = MaxPooling2D(64, (2,2), padding='same')(c3)\n",
    "    \n",
    "    #Final emdbedding block\n",
    "    c4 = Conv2D(256, (4,4), activation='relu')(m3)\n",
    "    f1 = Flatten()(c4)\n",
    "    d1 = Dense(4096, activation='sigmoid')(f1)\n",
    "    \n",
    "    \n",
    "    return Model(inputs=[inp], outputs=[d1], name='embedding')"
   ]
  },
  {
   "cell_type": "code",
   "execution_count": 43,
   "id": "afeb9b5c",
   "metadata": {},
   "outputs": [],
   "source": [
    "inp = Input(shape=(105,105,3), name='input_image')"
   ]
  },
  {
   "cell_type": "code",
   "execution_count": 44,
   "id": "718217dc",
   "metadata": {},
   "outputs": [
    {
     "data": {
      "text/plain": [
       "<KerasTensor: shape=(None, 105, 105, 3) dtype=float32 (created by layer 'input_image')>"
      ]
     },
     "execution_count": 44,
     "metadata": {},
     "output_type": "execute_result"
    }
   ],
   "source": [
    "inp"
   ]
  },
  {
   "cell_type": "code",
   "execution_count": 45,
   "id": "ca584ef4",
   "metadata": {},
   "outputs": [],
   "source": [
    "c1 = Conv2D(64, (10, 10), activation = 'relu')(inp)"
   ]
  },
  {
   "cell_type": "code",
   "execution_count": 46,
   "id": "ef4799ea",
   "metadata": {},
   "outputs": [
    {
     "data": {
      "text/plain": [
       "<KerasTensor: shape=(None, 96, 96, 64) dtype=float32 (created by layer 'conv2d')>"
      ]
     },
     "execution_count": 46,
     "metadata": {},
     "output_type": "execute_result"
    }
   ],
   "source": [
    "c1"
   ]
  },
  {
   "cell_type": "code",
   "execution_count": 47,
   "id": "08ed21ec",
   "metadata": {},
   "outputs": [],
   "source": [
    "m1 = MaxPooling2D(64,(2,2), padding='same')(c1)"
   ]
  },
  {
   "cell_type": "code",
   "execution_count": 48,
   "id": "d64be57e",
   "metadata": {},
   "outputs": [
    {
     "data": {
      "text/plain": [
       "<KerasTensor: shape=(None, 48, 48, 64) dtype=float32 (created by layer 'max_pooling2d')>"
      ]
     },
     "execution_count": 48,
     "metadata": {},
     "output_type": "execute_result"
    }
   ],
   "source": [
    "m1"
   ]
  },
  {
   "cell_type": "code",
   "execution_count": 49,
   "id": "177b8975",
   "metadata": {},
   "outputs": [],
   "source": [
    "c2 = Conv2D(128, (7,7), activation ='relu')(m1)\n",
    "m2 = MaxPooling2D(64, (2,2), padding='same')(c2) "
   ]
  },
  {
   "cell_type": "code",
   "execution_count": 50,
   "id": "62d483e5",
   "metadata": {},
   "outputs": [
    {
     "data": {
      "text/plain": [
       "<KerasTensor: shape=(None, 21, 21, 128) dtype=float32 (created by layer 'max_pooling2d_1')>"
      ]
     },
     "execution_count": 50,
     "metadata": {},
     "output_type": "execute_result"
    }
   ],
   "source": [
    "m2"
   ]
  },
  {
   "cell_type": "code",
   "execution_count": 51,
   "id": "35d3182f",
   "metadata": {},
   "outputs": [],
   "source": [
    "c3 = Conv2D(128, (4,4), activation='relu')(m2)\n",
    "m3 = MaxPooling2D(64, (2,2), padding='same')(c3)"
   ]
  },
  {
   "cell_type": "code",
   "execution_count": 52,
   "id": "05c1edc1",
   "metadata": {},
   "outputs": [
    {
     "data": {
      "text/plain": [
       "<KerasTensor: shape=(None, 18, 18, 128) dtype=float32 (created by layer 'conv2d_2')>"
      ]
     },
     "execution_count": 52,
     "metadata": {},
     "output_type": "execute_result"
    }
   ],
   "source": [
    "c3"
   ]
  },
  {
   "cell_type": "code",
   "execution_count": 53,
   "id": "f3402da7",
   "metadata": {},
   "outputs": [
    {
     "data": {
      "text/plain": [
       "<KerasTensor: shape=(None, 9, 9, 128) dtype=float32 (created by layer 'max_pooling2d_2')>"
      ]
     },
     "execution_count": 53,
     "metadata": {},
     "output_type": "execute_result"
    }
   ],
   "source": [
    "m3"
   ]
  },
  {
   "cell_type": "code",
   "execution_count": 54,
   "id": "98ab89bc",
   "metadata": {},
   "outputs": [],
   "source": [
    "c4 = Conv2D(256, (4,4), activation='relu')(m3)\n",
    "f1 = Flatten()(c4)\n",
    "d1 = Dense(4096, activation='sigmoid')(f1)"
   ]
  },
  {
   "cell_type": "code",
   "execution_count": 55,
   "id": "5cf08ba0",
   "metadata": {},
   "outputs": [
    {
     "data": {
      "text/plain": [
       "<KerasTensor: shape=(None, 6, 6, 256) dtype=float32 (created by layer 'conv2d_3')>"
      ]
     },
     "execution_count": 55,
     "metadata": {},
     "output_type": "execute_result"
    }
   ],
   "source": [
    "c4"
   ]
  },
  {
   "cell_type": "code",
   "execution_count": 56,
   "id": "59353d94",
   "metadata": {},
   "outputs": [
    {
     "data": {
      "text/plain": [
       "<KerasTensor: shape=(None, 9216) dtype=float32 (created by layer 'flatten')>"
      ]
     },
     "execution_count": 56,
     "metadata": {},
     "output_type": "execute_result"
    }
   ],
   "source": [
    "f1"
   ]
  },
  {
   "cell_type": "code",
   "execution_count": 57,
   "id": "068f152e",
   "metadata": {},
   "outputs": [
    {
     "data": {
      "text/plain": [
       "<KerasTensor: shape=(None, 4096) dtype=float32 (created by layer 'dense')>"
      ]
     },
     "execution_count": 57,
     "metadata": {},
     "output_type": "execute_result"
    }
   ],
   "source": [
    "d1"
   ]
  },
  {
   "cell_type": "code",
   "execution_count": 58,
   "id": "fec16445",
   "metadata": {},
   "outputs": [],
   "source": [
    "embedding = make_embedding()"
   ]
  },
  {
   "cell_type": "code",
   "execution_count": 59,
   "id": "facd344b",
   "metadata": {},
   "outputs": [
    {
     "name": "stdout",
     "output_type": "stream",
     "text": [
      "Model: \"embedding\"\n",
      "_________________________________________________________________\n",
      " Layer (type)                Output Shape              Param #   \n",
      "=================================================================\n",
      " input_image (InputLayer)    [(None, 105, 105, 3)]     0         \n",
      "                                                                 \n",
      " conv2d_4 (Conv2D)           (None, 96, 96, 64)        19264     \n",
      "                                                                 \n",
      " max_pooling2d_3 (MaxPoolin  (None, 48, 48, 64)        0         \n",
      " g2D)                                                            \n",
      "                                                                 \n",
      " conv2d_5 (Conv2D)           (None, 42, 42, 128)       401536    \n",
      "                                                                 \n",
      " max_pooling2d_4 (MaxPoolin  (None, 21, 21, 128)       0         \n",
      " g2D)                                                            \n",
      "                                                                 \n",
      " conv2d_6 (Conv2D)           (None, 18, 18, 128)       262272    \n",
      "                                                                 \n",
      " max_pooling2d_5 (MaxPoolin  (None, 9, 9, 128)         0         \n",
      " g2D)                                                            \n",
      "                                                                 \n",
      " conv2d_7 (Conv2D)           (None, 6, 6, 256)         524544    \n",
      "                                                                 \n",
      " flatten_1 (Flatten)         (None, 9216)              0         \n",
      "                                                                 \n",
      " dense_1 (Dense)             (None, 4096)              37752832  \n",
      "                                                                 \n",
      "=================================================================\n",
      "Total params: 38960448 (148.62 MB)\n",
      "Trainable params: 38960448 (148.62 MB)\n",
      "Non-trainable params: 0 (0.00 Byte)\n",
      "_________________________________________________________________\n"
     ]
    }
   ],
   "source": [
    "embedding.summary()"
   ]
  },
  {
   "cell_type": "markdown",
   "id": "b94e7c5d",
   "metadata": {},
   "source": [
    " # 4.2 Build Custom Distance Layer"
   ]
  },
  {
   "cell_type": "code",
   "execution_count": 60,
   "id": "f27e0fd9",
   "metadata": {},
   "outputs": [],
   "source": [
    "#Siamese L1 Distance class\n",
    "class L1Dist(Layer):\n",
    "    \n",
    "    #Init method - inheritance\n",
    "    def __init__(self, *kwargs):\n",
    "        super().__init__()\n",
    "        \n",
    "    #Magic happens here - similarity calculation  \n",
    "    def call(self, input_embedding, validation_embedding):\n",
    "        return tf.math.abs(input_embedding - validation_embedding)"
   ]
  },
  {
   "cell_type": "markdown",
   "id": "b07fdec6",
   "metadata": {},
   "source": [
    "# 4.3 Make Siamese Model"
   ]
  },
  {
   "cell_type": "code",
   "execution_count": 61,
   "id": "40b28524",
   "metadata": {},
   "outputs": [],
   "source": [
    "def make_siamese_model():\n",
    "    \n",
    "    #Anchor image input in the network\n",
    "    input_image = Input(name='input_img', shape=(105,105,3))\n",
    "    \n",
    "    #Validation image in the network\n",
    "    validation_image = Input(name='validation_img', shape=(105,105,3))\n",
    "    \n",
    "    #Combine siamese distance components\n",
    "    siamese_layer = L1Dist()\n",
    "    siamese_layer._name ='distance'\n",
    "    distances = siamese_layer(embedding(input_image), embedding(validation_image))\n",
    "    \n",
    "    #Classification layer\n",
    "    classifier = Dense(1, activation='sigmoid')(distances)\n",
    "    \n",
    "    return Model(inputs=[input_image, validation_image], outputs = classifier, name='SiameseNetwork')\n",
    "    "
   ]
  },
  {
   "cell_type": "code",
   "execution_count": 62,
   "id": "091133e3",
   "metadata": {},
   "outputs": [],
   "source": [
    "input_image = Input(name='input_img', shape=(105,105,3))\n",
    "validation_image = Input(name='validation_img', shape=(105,105,3))"
   ]
  },
  {
   "cell_type": "code",
   "execution_count": 63,
   "id": "a470dc3d",
   "metadata": {},
   "outputs": [],
   "source": [
    "inp_embedding = embedding(input_image)\n",
    "val_embedding = embedding(validation_image)"
   ]
  },
  {
   "cell_type": "code",
   "execution_count": 64,
   "id": "7b7aade8",
   "metadata": {},
   "outputs": [],
   "source": [
    "siamese_layer = L1Dist()"
   ]
  },
  {
   "cell_type": "code",
   "execution_count": 65,
   "id": "1ba5e287",
   "metadata": {},
   "outputs": [],
   "source": [
    "distances = siamese_layer(inp_embedding, val_embedding)"
   ]
  },
  {
   "cell_type": "code",
   "execution_count": 66,
   "id": "36af717d",
   "metadata": {},
   "outputs": [],
   "source": [
    "classifier = Dense(1, activation='sigmoid')(distances)"
   ]
  },
  {
   "cell_type": "code",
   "execution_count": 67,
   "id": "9e942cab",
   "metadata": {},
   "outputs": [
    {
     "data": {
      "text/plain": [
       "<KerasTensor: shape=(None, 1) dtype=float32 (created by layer 'dense_2')>"
      ]
     },
     "execution_count": 67,
     "metadata": {},
     "output_type": "execute_result"
    }
   ],
   "source": [
    "classifier"
   ]
  },
  {
   "cell_type": "code",
   "execution_count": 68,
   "id": "027621a4",
   "metadata": {},
   "outputs": [],
   "source": [
    "siamese_network = Model(inputs=[input_image, validation_image], outputs = classifier, name='SiameseNetwork')"
   ]
  },
  {
   "cell_type": "code",
   "execution_count": 69,
   "id": "cac3a16a",
   "metadata": {},
   "outputs": [
    {
     "name": "stdout",
     "output_type": "stream",
     "text": [
      "Model: \"SiameseNetwork\"\n",
      "__________________________________________________________________________________________________\n",
      " Layer (type)                Output Shape                 Param #   Connected to                  \n",
      "==================================================================================================\n",
      " input_img (InputLayer)      [(None, 105, 105, 3)]        0         []                            \n",
      "                                                                                                  \n",
      " validation_img (InputLayer  [(None, 105, 105, 3)]        0         []                            \n",
      " )                                                                                                \n",
      "                                                                                                  \n",
      " embedding (Functional)      (None, 4096)                 3896044   ['input_img[0][0]',           \n",
      "                                                          8          'validation_img[0][0]']      \n",
      "                                                                                                  \n",
      " l1_dist (L1Dist)            (None, 4096)                 0         ['embedding[0][0]',           \n",
      "                                                                     'embedding[1][0]']           \n",
      "                                                                                                  \n",
      " dense_2 (Dense)             (None, 1)                    4097      ['l1_dist[0][0]']             \n",
      "                                                                                                  \n",
      "==================================================================================================\n",
      "Total params: 38964545 (148.64 MB)\n",
      "Trainable params: 38964545 (148.64 MB)\n",
      "Non-trainable params: 0 (0.00 Byte)\n",
      "__________________________________________________________________________________________________\n"
     ]
    }
   ],
   "source": [
    "siamese_network.summary()"
   ]
  },
  {
   "cell_type": "code",
   "execution_count": 70,
   "id": "4372955d",
   "metadata": {},
   "outputs": [],
   "source": [
    "siamese_model = make_siamese_model()"
   ]
  },
  {
   "cell_type": "code",
   "execution_count": 71,
   "id": "85292ccd",
   "metadata": {},
   "outputs": [
    {
     "name": "stdout",
     "output_type": "stream",
     "text": [
      "Model: \"SiameseNetwork\"\n",
      "__________________________________________________________________________________________________\n",
      " Layer (type)                Output Shape                 Param #   Connected to                  \n",
      "==================================================================================================\n",
      " input_img (InputLayer)      [(None, 105, 105, 3)]        0         []                            \n",
      "                                                                                                  \n",
      " validation_img (InputLayer  [(None, 105, 105, 3)]        0         []                            \n",
      " )                                                                                                \n",
      "                                                                                                  \n",
      " embedding (Functional)      (None, 4096)                 3896044   ['input_img[0][0]',           \n",
      "                                                          8          'validation_img[0][0]']      \n",
      "                                                                                                  \n",
      " distance (L1Dist)           (None, 4096)                 0         ['embedding[2][0]',           \n",
      "                                                                     'embedding[3][0]']           \n",
      "                                                                                                  \n",
      " dense_3 (Dense)             (None, 1)                    4097      ['distance[0][0]']            \n",
      "                                                                                                  \n",
      "==================================================================================================\n",
      "Total params: 38964545 (148.64 MB)\n",
      "Trainable params: 38964545 (148.64 MB)\n",
      "Non-trainable params: 0 (0.00 Byte)\n",
      "__________________________________________________________________________________________________\n"
     ]
    }
   ],
   "source": [
    "siamese_model.summary()"
   ]
  },
  {
   "cell_type": "markdown",
   "id": "31e44123",
   "metadata": {},
   "source": [
    "# 5 Training"
   ]
  },
  {
   "cell_type": "markdown",
   "id": "d7dba467",
   "metadata": {},
   "source": [
    "# 5.1 Setup Loss and Optimiser"
   ]
  },
  {
   "cell_type": "code",
   "execution_count": 72,
   "id": "53a26dad",
   "metadata": {},
   "outputs": [],
   "source": [
    "binary_cross_loss = tf.losses.BinaryCrossentropy()"
   ]
  },
  {
   "cell_type": "code",
   "execution_count": 73,
   "id": "6e144705",
   "metadata": {},
   "outputs": [],
   "source": [
    "opt = tf.keras.optimizers.legacy.Adam"
   ]
  },
  {
   "cell_type": "code",
   "execution_count": 74,
   "id": "267b0b48",
   "metadata": {},
   "outputs": [
    {
     "data": {
      "text/plain": [
       "keras.src.optimizers.legacy.adam.Adam"
      ]
     },
     "execution_count": 74,
     "metadata": {},
     "output_type": "execute_result"
    }
   ],
   "source": [
    "opt"
   ]
  },
  {
   "cell_type": "markdown",
   "id": "78b463f3",
   "metadata": {},
   "source": [
    "# 5.2 Establish Checkpoints"
   ]
  },
  {
   "cell_type": "code",
   "execution_count": 75,
   "id": "50f2d66e",
   "metadata": {},
   "outputs": [
    {
     "name": "stderr",
     "output_type": "stream",
     "text": [
      "WARNING:absl:At this time, the v2.11+ optimizer `tf.keras.optimizers.Adam` runs slowly on M1/M2 Macs, please use the legacy Keras optimizer instead, located at `tf.keras.optimizers.legacy.Adam`.\n"
     ]
    }
   ],
   "source": [
    "checkpoint_dir = './training_checkpoints'\n",
    "checkpoint_prefix = os.path.join(checkpoint_dir, 'ckpt')\n",
    "checkpoint = tf.train.Checkpoint(opt=Adam(), siamese_model=siamese_model)"
   ]
  },
  {
   "cell_type": "markdown",
   "id": "6f3d8d4f",
   "metadata": {},
   "source": [
    "# 5.3 Build Train Setup Function"
   ]
  },
  {
   "cell_type": "code",
   "execution_count": 76,
   "id": "d3fd0a7e",
   "metadata": {},
   "outputs": [],
   "source": [
    "test_batch = train_data.as_numpy_iterator()"
   ]
  },
  {
   "cell_type": "code",
   "execution_count": 77,
   "id": "0b66dea9",
   "metadata": {},
   "outputs": [],
   "source": [
    "batch = test_batch.next()"
   ]
  },
  {
   "cell_type": "code",
   "execution_count": 93,
   "id": "eca563ed",
   "metadata": {},
   "outputs": [
    {
     "data": {
      "text/plain": [
       "array([0., 0., 0., 1., 0., 1., 0., 1., 1., 1., 0., 0., 1., 1.],\n",
       "      dtype=float32)"
      ]
     },
     "execution_count": 93,
     "metadata": {},
     "output_type": "execute_result"
    }
   ],
   "source": [
    "batch[2]"
   ]
  },
  {
   "cell_type": "code",
   "execution_count": 95,
   "id": "e3cc00ff",
   "metadata": {},
   "outputs": [],
   "source": [
    "X = batch[:2]"
   ]
  },
  {
   "cell_type": "code",
   "execution_count": 96,
   "id": "8a4f47e9",
   "metadata": {},
   "outputs": [
    {
     "data": {
      "text/plain": [
       "(array([[[[8.6896759e-01, 7.7484995e-01, 6.2583029e-01],\n",
       "          [8.6666667e-01, 7.8039217e-01, 6.2745100e-01],\n",
       "          [8.6358547e-01, 7.7731097e-01, 6.3221294e-01],\n",
       "          ...,\n",
       "          [8.4313726e-01, 8.2352942e-01, 7.4901962e-01],\n",
       "          [8.4939951e-01, 8.2979167e-01, 7.5528187e-01],\n",
       "          [8.5238099e-01, 8.3277315e-01, 7.5826335e-01]],\n",
       " \n",
       "         [[8.6638659e-01, 7.7226889e-01, 6.2324929e-01],\n",
       "          [8.6274511e-01, 7.7254903e-01, 6.1176473e-01],\n",
       "          [8.7450981e-01, 7.8039217e-01, 6.3921571e-01],\n",
       "          ...,\n",
       "          [8.5154045e-01, 8.3193260e-01, 7.5742275e-01],\n",
       "          [8.4285671e-01, 8.2324886e-01, 7.4873906e-01],\n",
       "          [8.3893555e-01, 8.1932771e-01, 7.4481791e-01]],\n",
       " \n",
       "         [[8.5490197e-01, 7.6470590e-01, 6.0392159e-01],\n",
       "          [8.5882354e-01, 7.6470590e-01, 6.1568630e-01],\n",
       "          [8.5164070e-01, 7.6536620e-01, 6.2026817e-01],\n",
       "          ...,\n",
       "          [8.4771889e-01, 8.2484978e-01, 7.6012379e-01],\n",
       "          [8.4005600e-01, 8.2044816e-01, 7.4593836e-01],\n",
       "          [8.4005600e-01, 8.2044816e-01, 7.4593836e-01]],\n",
       " \n",
       "         ...,\n",
       " \n",
       "         [[8.3837509e-01, 7.3641431e-01, 5.4425740e-01],\n",
       "          [8.4621823e-01, 7.4425745e-01, 5.5210054e-01],\n",
       "          [8.6106414e-01, 7.5770283e-01, 5.7254881e-01],\n",
       "          ...,\n",
       "          [8.1894785e-01, 7.9065621e-01, 7.1482539e-01],\n",
       "          [8.3053195e-01, 7.8347313e-01, 6.8935549e-01],\n",
       "          [8.3137256e-01, 7.8431374e-01, 6.9019610e-01]],\n",
       " \n",
       "         [[8.5518199e-01, 7.4481797e-01, 5.4873955e-01],\n",
       "          [9.2388880e-01, 7.6200426e-01, 5.8969539e-01],\n",
       "          [6.5866435e-01, 4.6286598e-01, 3.2617116e-01],\n",
       "          ...,\n",
       "          [5.9243786e-01, 5.6022519e-01, 5.0756454e-01],\n",
       "          [8.2719052e-01, 7.8797483e-01, 6.8993562e-01],\n",
       "          [8.2979184e-01, 7.8273302e-01, 6.8861538e-01]],\n",
       " \n",
       "         [[5.9369642e-01, 3.5398078e-01, 1.8843484e-01],\n",
       "          [6.9140029e-01, 5.1691079e-01, 3.6899218e-01],\n",
       "          [8.5521847e-01, 7.0339745e-01, 5.6054044e-01],\n",
       "          ...,\n",
       "          [5.1064456e-01, 4.6358570e-01, 4.0084061e-01],\n",
       "          [7.6442534e-01, 7.2520965e-01, 6.8563336e-01],\n",
       "          [8.2352942e-01, 7.8431374e-01, 6.8627453e-01]]],\n",
       " \n",
       " \n",
       "        [[[7.2156864e-01, 6.1176473e-01, 4.6666667e-01],\n",
       "          [7.2549021e-01, 6.1176473e-01, 4.7843137e-01],\n",
       "          [7.3333335e-01, 6.1960787e-01, 4.8627451e-01],\n",
       "          ...,\n",
       "          [7.4311709e-01, 6.0194063e-01, 4.6076417e-01],\n",
       "          [7.4043715e-01, 6.1102539e-01, 4.3475515e-01],\n",
       "          [8.8487393e-01, 7.7114844e-01, 6.0644257e-01]],\n",
       " \n",
       "         [[7.1764708e-01, 6.0784316e-01, 4.6274510e-01],\n",
       "          [7.2549021e-01, 6.1176473e-01, 4.7843137e-01],\n",
       "          [7.3333335e-01, 6.1960787e-01, 4.8627451e-01],\n",
       "          ...,\n",
       "          [7.6554602e-01, 6.1652642e-01, 4.6358523e-01],\n",
       "          [7.5604165e-01, 6.2298882e-01, 4.7312763e-01],\n",
       "          [8.9663851e-01, 7.7114832e-01, 6.1504567e-01]],\n",
       " \n",
       "         [[7.1372551e-01, 6.0392159e-01, 4.5882353e-01],\n",
       "          [7.2941178e-01, 6.1568630e-01, 4.8235294e-01],\n",
       "          [7.3333335e-01, 6.1960787e-01, 4.8627451e-01],\n",
       "          ...,\n",
       "          [7.5836295e-01, 6.0934335e-01, 4.5640221e-01],\n",
       "          [7.4509805e-01, 6.1176473e-01, 4.6274510e-01],\n",
       "          [9.0588236e-01, 7.8823531e-01, 6.4705884e-01]],\n",
       " \n",
       "         ...,\n",
       " \n",
       "         [[6.6274512e-01, 6.3921571e-01, 5.8431375e-01],\n",
       "          [6.8935549e-01, 6.6582608e-01, 6.1708599e-01],\n",
       "          [6.9561851e-01, 6.6424596e-01, 6.2110871e-01],\n",
       "          ...,\n",
       "          [4.7468990e-01, 4.0018007e-01, 4.1418514e-01],\n",
       "          [4.6044460e-01, 3.7417009e-01, 3.8201323e-01],\n",
       "          [4.4705883e-01, 3.6554649e-01, 3.6162493e-01]],\n",
       " \n",
       "         [[6.6928762e-01, 6.4575821e-01, 5.9085625e-01],\n",
       "          [6.9411767e-01, 6.6274512e-01, 6.1960787e-01],\n",
       "          [6.9019610e-01, 6.5882355e-01, 6.1568630e-01],\n",
       "          ...,\n",
       "          [4.7450981e-01, 3.9607844e-01, 4.0392157e-01],\n",
       "          [4.5936406e-01, 3.7308955e-01, 3.8093269e-01],\n",
       "          [4.5928359e-01, 3.7693065e-01, 3.7300909e-01]],\n",
       " \n",
       "         [[6.8627453e-01, 6.6274512e-01, 6.0784316e-01],\n",
       "          [6.9393760e-01, 6.7040819e-01, 6.2334937e-01],\n",
       "          [6.6050404e-01, 6.3697463e-01, 5.7591027e-01],\n",
       "          ...,\n",
       "          [4.5014027e-01, 3.7563047e-01, 3.8347360e-01],\n",
       "          [4.5108059e-01, 3.7264922e-01, 3.6872765e-01],\n",
       "          [4.7541019e-01, 3.8913569e-01, 3.9697883e-01]]],\n",
       " \n",
       " \n",
       "        [[[4.7058824e-01, 5.5294120e-01, 5.7254905e-01],\n",
       "          [4.7450981e-01, 5.5294120e-01, 5.8039218e-01],\n",
       "          [4.7366947e-01, 5.5210078e-01, 5.8739495e-01],\n",
       "          ...,\n",
       "          [3.4847954e-01, 3.3279327e-01, 2.8573444e-01],\n",
       "          [3.2473001e-01, 3.2473001e-01, 2.7767119e-01],\n",
       "          [3.8929579e-01, 3.8929579e-01, 3.4223697e-01]],\n",
       " \n",
       "         [[4.7030813e-01, 5.6050420e-01, 5.9187675e-01],\n",
       "          [4.6666667e-01, 5.6470591e-01, 5.9215689e-01],\n",
       "          [4.7535014e-01, 5.5378157e-01, 5.8907568e-01],\n",
       "          ...,\n",
       "          [3.3669487e-01, 3.2256886e-01, 2.7472991e-01],\n",
       "          [3.2577071e-01, 3.2969227e-01, 2.7479032e-01],\n",
       "          [3.3137268e-01, 3.2352954e-01, 2.7254915e-01]],\n",
       " \n",
       "         [[4.7058824e-01, 5.6078434e-01, 5.9215689e-01],\n",
       "          [4.7058824e-01, 5.6078434e-01, 5.9215689e-01],\n",
       "          [4.6684676e-01, 5.5704278e-01, 5.8841532e-01],\n",
       "          ...,\n",
       "          [3.7955183e-01, 3.7170869e-01, 3.2464987e-01],\n",
       "          [3.3977589e-01, 3.4369746e-01, 2.8879550e-01],\n",
       "          [3.3725491e-01, 3.2240897e-01, 2.7282912e-01]],\n",
       " \n",
       "         ...,\n",
       " \n",
       "         [[1.9409510e-03, 1.9409510e-03, 1.9409510e-03],\n",
       "          [0.0000000e+00, 7.8431377e-03, 3.9215689e-03],\n",
       "          [0.0000000e+00, 0.0000000e+00, 0.0000000e+00],\n",
       "          ...,\n",
       "          [5.4817897e-01, 4.8543391e-01, 3.8347313e-01],\n",
       "          [5.3725493e-01, 4.7843137e-01, 3.6470589e-01],\n",
       "          [5.1654661e-01, 4.6556622e-01, 3.4007600e-01]],\n",
       " \n",
       "         [[0.0000000e+00, 3.9215689e-03, 0.0000000e+00],\n",
       "          [0.0000000e+00, 0.0000000e+00, 0.0000000e+00],\n",
       "          [2.8004366e-04, 2.8004366e-04, 8.1231808e-03],\n",
       "          ...,\n",
       "          [6.3266695e-01, 5.3904939e-01, 4.2634499e-01],\n",
       "          [5.3727496e-01, 4.7845143e-01, 3.6472592e-01],\n",
       "          [5.2408952e-01, 4.6526596e-01, 3.5154048e-01]],\n",
       " \n",
       "         [[0.0000000e+00, 0.0000000e+00, 0.0000000e+00],\n",
       "          [0.0000000e+00, 3.9215689e-03, 0.0000000e+00],\n",
       "          [2.5208716e-03, 2.5208716e-03, 1.0364009e-02],\n",
       "          ...,\n",
       "          [7.6076472e-01, 5.9385765e-01, 4.9581844e-01],\n",
       "          [5.3583413e-01, 4.7963166e-01, 3.6590618e-01],\n",
       "          [5.2549022e-01, 4.6666667e-01, 3.5294119e-01]]],\n",
       " \n",
       " \n",
       "        ...,\n",
       " \n",
       " \n",
       "        [[[4.5490196e-01, 5.3725493e-01, 5.5686277e-01],\n",
       "          [4.5480192e-01, 5.4499799e-01, 5.6852740e-01],\n",
       "          [4.6414563e-01, 5.4509807e-01, 5.7170862e-01],\n",
       "          ...,\n",
       "          [3.2072851e-01, 3.2857165e-01, 2.7759123e-01],\n",
       "          [3.2443109e-01, 3.2835266e-01, 2.7345070e-01],\n",
       "          [3.7338951e-01, 3.8123265e-01, 3.3025226e-01]],\n",
       " \n",
       "         [[4.5462185e-01, 5.4481792e-01, 5.6834733e-01],\n",
       "          [4.5070028e-01, 5.4873949e-01, 5.7619047e-01],\n",
       "          [4.6666667e-01, 5.4509807e-01, 5.8039218e-01],\n",
       "          ...,\n",
       "          [3.1994838e-01, 3.1994838e-01, 2.7288955e-01],\n",
       "          [3.1452659e-01, 3.0668345e-01, 2.5962463e-01],\n",
       "          [3.2605040e-01, 3.1820726e-01, 2.7114844e-01]],\n",
       " \n",
       "         [[4.5490196e-01, 5.4509807e-01, 5.7647061e-01],\n",
       "          [4.5490196e-01, 5.4509807e-01, 5.7647061e-01],\n",
       "          [4.7058824e-01, 5.4901963e-01, 5.7647061e-01],\n",
       "          ...,\n",
       "          [3.6730725e-01, 3.6078432e-01, 3.1372550e-01],\n",
       "          [3.3809480e-01, 3.3025166e-01, 2.8319284e-01],\n",
       "          [3.3025211e-01, 3.2240897e-01, 2.7142859e-01]],\n",
       " \n",
       "         ...,\n",
       " \n",
       "         [[0.0000000e+00, 0.0000000e+00, 0.0000000e+00],\n",
       "          [3.9215689e-03, 3.9215689e-03, 3.9215689e-03],\n",
       "          [7.8431377e-03, 7.8431377e-03, 7.8431377e-03],\n",
       "          ...,\n",
       "          [5.5210054e-01, 4.8935547e-01, 3.8739470e-01],\n",
       "          [5.3725493e-01, 4.7843137e-01, 3.5686275e-01],\n",
       "          [5.2156866e-01, 4.6274510e-01, 3.4901962e-01]],\n",
       " \n",
       "         [[0.0000000e+00, 0.0000000e+00, 0.0000000e+00],\n",
       "          [0.0000000e+00, 0.0000000e+00, 0.0000000e+00],\n",
       "          [4.4816560e-03, 4.4816560e-03, 4.4816560e-03],\n",
       "          ...,\n",
       "          [7.9263151e-01, 6.7442435e-01, 5.8058673e-01],\n",
       "          [5.4537857e-01, 4.7871190e-01, 3.7675112e-01],\n",
       "          [5.2801108e-01, 4.6526596e-01, 3.6330518e-01]],\n",
       " \n",
       "         [[0.0000000e+00, 0.0000000e+00, 0.0000000e+00],\n",
       "          [3.9215689e-03, 1.1764706e-02, 7.8431377e-03],\n",
       "          [9.5439851e-03, 1.3465554e-02, 2.1308692e-02],\n",
       "          ...,\n",
       "          [7.5934398e-01, 5.7222891e-01, 5.0304133e-01],\n",
       "          [5.4019469e-01, 4.6998718e-01, 3.6390445e-01],\n",
       "          [5.2801108e-01, 4.6526596e-01, 3.6330518e-01]]],\n",
       " \n",
       " \n",
       "        [[[8.8627452e-01, 7.9215688e-01, 6.4313728e-01],\n",
       "          [8.9177668e-01, 7.9765904e-01, 6.4863944e-01],\n",
       "          [8.8627452e-01, 7.9215688e-01, 6.4313728e-01],\n",
       "          ...,\n",
       "          [8.7058824e-01, 8.5098040e-01, 7.7254903e-01],\n",
       "          [8.7320948e-01, 8.5360163e-01, 7.7909184e-01],\n",
       "          [8.7450981e-01, 8.5490197e-01, 7.7647060e-01]],\n",
       " \n",
       "         [[8.8235295e-01, 7.8823531e-01, 6.3921571e-01],\n",
       "          [8.7114847e-01, 7.7703077e-01, 6.2801117e-01],\n",
       "          [8.9389753e-01, 7.9977989e-01, 6.5076029e-01],\n",
       "          ...,\n",
       "          [8.7506986e-01, 8.5546201e-01, 7.8095216e-01],\n",
       "          [8.6692673e-01, 8.4731889e-01, 7.6888752e-01],\n",
       "          [8.6872739e-01, 8.4911954e-01, 7.7068818e-01]],\n",
       " \n",
       "         [[8.7058824e-01, 7.8039217e-01, 6.1960787e-01],\n",
       "          [8.7737095e-01, 7.8325331e-01, 6.3423371e-01],\n",
       "          [8.8319331e-01, 7.8907567e-01, 6.4005607e-01],\n",
       "          ...,\n",
       "          [8.7843138e-01, 8.5882354e-01, 7.8431374e-01],\n",
       "          [8.7058824e-01, 8.5098040e-01, 7.7647060e-01],\n",
       "          [8.6666667e-01, 8.4705883e-01, 7.6862746e-01]],\n",
       " \n",
       "         ...,\n",
       " \n",
       "         [[8.4761882e-01, 7.5742269e-01, 5.5350113e-01],\n",
       "          [8.5406137e-01, 7.6386529e-01, 5.5994368e-01],\n",
       "          [8.7384933e-01, 7.6404536e-01, 5.6796694e-01],\n",
       "          ...,\n",
       "          [8.6274511e-01, 8.3137256e-01, 7.4117649e-01],\n",
       "          [8.6274511e-01, 8.1568629e-01, 7.2156864e-01],\n",
       "          [8.6666667e-01, 8.1960785e-01, 7.2549021e-01]],\n",
       " \n",
       "         [[8.7132871e-01, 7.6096475e-01, 5.6488627e-01],\n",
       "          [9.4125617e-01, 7.7286911e-01, 5.9613848e-01],\n",
       "          [7.1838897e-01, 4.7189027e-01, 3.4515935e-01],\n",
       "          ...,\n",
       "          [6.8605542e-01, 6.5076131e-01, 6.1546719e-01],\n",
       "          [8.6638612e-01, 8.2717043e-01, 7.2913122e-01],\n",
       "          [8.6274511e-01, 8.1568629e-01, 7.2156864e-01]],\n",
       " \n",
       "         [[6.6364366e-01, 3.8589299e-01, 2.3373231e-01],\n",
       "          [7.1679056e-01, 5.1783156e-01, 3.6068869e-01],\n",
       "          [8.9619535e-01, 7.2196513e-01, 5.5473834e-01],\n",
       "          ...,\n",
       "          [5.4205716e-01, 5.1852775e-01, 4.5578262e-01],\n",
       "          [8.0822384e-01, 7.8469443e-01, 7.3447353e-01],\n",
       "          [8.5882354e-01, 8.1960785e-01, 7.2156864e-01]]],\n",
       " \n",
       " \n",
       "        [[[8.6896759e-01, 7.7484995e-01, 6.2583029e-01],\n",
       "          [8.6666667e-01, 7.8039217e-01, 6.2745100e-01],\n",
       "          [8.6358547e-01, 7.7731097e-01, 6.3221294e-01],\n",
       "          ...,\n",
       "          [8.4313726e-01, 8.2352942e-01, 7.4901962e-01],\n",
       "          [8.4939951e-01, 8.2979167e-01, 7.5528187e-01],\n",
       "          [8.5238099e-01, 8.3277315e-01, 7.5826335e-01]],\n",
       " \n",
       "         [[8.6638659e-01, 7.7226889e-01, 6.2324929e-01],\n",
       "          [8.6274511e-01, 7.7254903e-01, 6.1176473e-01],\n",
       "          [8.7450981e-01, 7.8039217e-01, 6.3921571e-01],\n",
       "          ...,\n",
       "          [8.5154045e-01, 8.3193260e-01, 7.5742275e-01],\n",
       "          [8.4285671e-01, 8.2324886e-01, 7.4873906e-01],\n",
       "          [8.3893555e-01, 8.1932771e-01, 7.4481791e-01]],\n",
       " \n",
       "         [[8.5490197e-01, 7.6470590e-01, 6.0392159e-01],\n",
       "          [8.5882354e-01, 7.6470590e-01, 6.1568630e-01],\n",
       "          [8.5164070e-01, 7.6536620e-01, 6.2026817e-01],\n",
       "          ...,\n",
       "          [8.4771889e-01, 8.2484978e-01, 7.6012379e-01],\n",
       "          [8.4005600e-01, 8.2044816e-01, 7.4593836e-01],\n",
       "          [8.4005600e-01, 8.2044816e-01, 7.4593836e-01]],\n",
       " \n",
       "         ...,\n",
       " \n",
       "         [[8.3837509e-01, 7.3641431e-01, 5.4425740e-01],\n",
       "          [8.4621823e-01, 7.4425745e-01, 5.5210054e-01],\n",
       "          [8.6106414e-01, 7.5770283e-01, 5.7254881e-01],\n",
       "          ...,\n",
       "          [8.1894785e-01, 7.9065621e-01, 7.1482539e-01],\n",
       "          [8.3053195e-01, 7.8347313e-01, 6.8935549e-01],\n",
       "          [8.3137256e-01, 7.8431374e-01, 6.9019610e-01]],\n",
       " \n",
       "         [[8.5518199e-01, 7.4481797e-01, 5.4873955e-01],\n",
       "          [9.2388880e-01, 7.6200426e-01, 5.8969539e-01],\n",
       "          [6.5866435e-01, 4.6286598e-01, 3.2617116e-01],\n",
       "          ...,\n",
       "          [5.9243786e-01, 5.6022519e-01, 5.0756454e-01],\n",
       "          [8.2719052e-01, 7.8797483e-01, 6.8993562e-01],\n",
       "          [8.2979184e-01, 7.8273302e-01, 6.8861538e-01]],\n",
       " \n",
       "         [[5.9369642e-01, 3.5398078e-01, 1.8843484e-01],\n",
       "          [6.9140029e-01, 5.1691079e-01, 3.6899218e-01],\n",
       "          [8.5521847e-01, 7.0339745e-01, 5.6054044e-01],\n",
       "          ...,\n",
       "          [5.1064456e-01, 4.6358570e-01, 4.0084061e-01],\n",
       "          [7.6442534e-01, 7.2520965e-01, 6.8563336e-01],\n",
       "          [8.2352942e-01, 7.8431374e-01, 6.8627453e-01]]]], dtype=float32),\n",
       " array([[[[8.38113076e-04, 8.38113076e-04, 0.00000000e+00],\n",
       "          [8.27664416e-03, 8.27664416e-03, 2.68774177e-03],\n",
       "          [5.39905056e-02, 5.39905056e-02, 4.96621057e-02],\n",
       "          ...,\n",
       "          [2.81605989e-01, 2.85527557e-01, 2.70774961e-01],\n",
       "          [2.81605989e-01, 2.81886071e-01, 2.75803655e-01],\n",
       "          [2.81605989e-01, 2.81605989e-01, 2.76190490e-01]],\n",
       " \n",
       "         [[0.00000000e+00, 0.00000000e+00, 0.00000000e+00],\n",
       "          [7.66306510e-03, 7.66306510e-03, 3.40135855e-04],\n",
       "          [1.86081171e-01, 1.86081171e-01, 1.82226300e-01],\n",
       "          ...,\n",
       "          [9.99719918e-01, 1.00000000e+00, 9.84033644e-01],\n",
       "          [9.99719918e-01, 9.99739885e-01, 9.91316557e-01],\n",
       "          [9.99719918e-01, 9.99719918e-01, 9.91876781e-01]],\n",
       " \n",
       "         [[5.62446984e-03, 5.62446984e-03, 1.32942025e-03],\n",
       "          [1.03908274e-02, 1.03908274e-02, 6.84273988e-03],\n",
       "          [1.85472041e-01, 1.85472041e-01, 1.80952460e-01],\n",
       "          ...,\n",
       "          [9.96451914e-01, 9.96451914e-01, 9.84313726e-01],\n",
       "          [9.96451914e-01, 9.96451914e-01, 9.88301992e-01],\n",
       "          [9.96451914e-01, 9.96451914e-01, 9.88608778e-01]],\n",
       " \n",
       "         ...,\n",
       " \n",
       "         [[0.00000000e+00, 3.92156886e-03, 0.00000000e+00],\n",
       "          [3.64145683e-03, 3.64145683e-03, 0.00000000e+00],\n",
       "          [6.24650083e-02, 6.24650083e-02, 6.60130978e-02],\n",
       "          ...,\n",
       "          [8.23958457e-01, 8.05900097e-01, 7.53370225e-01],\n",
       "          [8.10397506e-01, 7.93310702e-01, 7.28978276e-01],\n",
       "          [7.97852457e-01, 7.82539725e-01, 7.08029866e-01]],\n",
       " \n",
       "         [[0.00000000e+00, 3.92156886e-03, 0.00000000e+00],\n",
       "          [3.64145683e-03, 3.64145683e-03, 0.00000000e+00],\n",
       "          [5.90436384e-02, 5.90436384e-02, 6.25917241e-02],\n",
       "          ...,\n",
       "          [8.32866490e-01, 8.24616492e-01, 7.69467771e-01],\n",
       "          [8.26910734e-01, 8.22168946e-01, 7.52681077e-01],\n",
       "          [8.09990704e-01, 8.05508912e-01, 7.27357626e-01]],\n",
       " \n",
       "         [[0.00000000e+00, 3.92156886e-03, 0.00000000e+00],\n",
       "          [3.64145683e-03, 3.64145683e-03, 0.00000000e+00],\n",
       "          [5.89169227e-02, 5.89169227e-02, 6.24650083e-02],\n",
       "          ...,\n",
       "          [8.45284820e-01, 8.49206388e-01, 7.90009320e-01],\n",
       "          [8.39495778e-01, 8.43417346e-01, 7.73389339e-01],\n",
       "          [8.25957060e-01, 8.33800197e-01, 7.51447260e-01]]],\n",
       " \n",
       " \n",
       "        [[[1.96916535e-01, 1.81230262e-01, 7.53479153e-02],\n",
       "          [1.97292253e-01, 1.81325853e-01, 8.41269866e-02],\n",
       "          [1.94304392e-01, 1.74696550e-01, 9.19701234e-02],\n",
       "          ...,\n",
       "          [3.21195126e-01, 2.72735775e-01, 1.56862751e-01],\n",
       "          [3.13725501e-01, 2.70588249e-01, 1.52941182e-01],\n",
       "          [3.07096183e-01, 2.71802068e-01, 1.50233433e-01]],\n",
       " \n",
       "         [[1.88041881e-01, 1.72355607e-01, 6.64732531e-02],\n",
       "          [1.91356540e-01, 1.75390154e-01, 7.81912804e-02],\n",
       "          [1.88235298e-01, 1.68627456e-01, 8.59010294e-02],\n",
       "          ...,\n",
       "          [3.25243384e-01, 2.76784062e-01, 1.60911039e-01],\n",
       "          [3.17927152e-01, 2.74789900e-01, 1.57142863e-01],\n",
       "          [3.10084015e-01, 2.74789900e-01, 1.53221294e-01]],\n",
       " \n",
       "         [[1.82539687e-01, 1.66853413e-01, 6.09710552e-02],\n",
       "          [1.80545554e-01, 1.64579153e-01, 6.73802868e-02],\n",
       "          [1.84313729e-01, 1.64705887e-01, 8.19794610e-02],\n",
       "          ...,\n",
       "          [3.29840779e-01, 2.81381428e-01, 1.65508419e-01],\n",
       "          [3.17927152e-01, 2.74789900e-01, 1.57142848e-01],\n",
       "          [3.11951458e-01, 2.76657343e-01, 1.55088708e-01]],\n",
       " \n",
       "         ...,\n",
       " \n",
       "         [[4.58450057e-02, 6.15312792e-02, 6.54528439e-02],\n",
       "          [5.88235296e-02, 8.29131603e-02, 8.34733844e-02],\n",
       "          [6.17735907e-02, 9.66942310e-02, 1.02763325e-01],\n",
       "          ...,\n",
       "          [1.49393126e-01, 2.35667631e-01, 2.86648035e-01],\n",
       "          [1.55088723e-01, 2.41363227e-01, 2.92343616e-01],\n",
       "          [1.62931859e-01, 2.49206364e-01, 3.00186753e-01]],\n",
       " \n",
       "         [[4.80992459e-02, 6.04041591e-02, 6.54528439e-02],\n",
       "          [5.57422861e-02, 7.89915845e-02, 7.98319206e-02],\n",
       "          [5.91036342e-02, 9.04761851e-02, 9.83193219e-02],\n",
       "          ...,\n",
       "          [1.58730179e-01, 2.45004699e-01, 2.95985073e-01],\n",
       "          [1.68067247e-01, 2.54341751e-01, 3.05322140e-01],\n",
       "          [1.72268912e-01, 2.58543432e-01, 3.09523821e-01]],\n",
       " \n",
       "         [[4.58450057e-02, 4.97665741e-02, 5.76097108e-02],\n",
       "          [5.49019612e-02, 7.08683431e-02, 7.53501356e-02],\n",
       "          [5.13538718e-02, 7.62838498e-02, 8.62745121e-02],\n",
       "          ...,\n",
       "          [1.62931859e-01, 2.49206364e-01, 3.00186753e-01],\n",
       "          [1.75910383e-01, 2.62184888e-01, 3.13165277e-01],\n",
       "          [1.77684411e-01, 2.63958931e-01, 3.14939320e-01]]],\n",
       " \n",
       " \n",
       "        [[[6.09056950e-01, 5.42390287e-01, 5.03174603e-01],\n",
       "          [6.41636670e-01, 5.75810313e-01, 5.36314547e-01],\n",
       "          [6.92612588e-01, 6.37710631e-01, 5.94573379e-01],\n",
       "          ...,\n",
       "          [6.73774004e-01, 5.33998013e-01, 9.40353423e-02],\n",
       "          [6.79558516e-01, 5.38381994e-01, 6.05108552e-02],\n",
       "          [6.91690028e-01, 5.61998129e-01, 7.45098069e-02]],\n",
       " \n",
       "         [[6.33233309e-01, 5.66566646e-01, 5.27350903e-01],\n",
       "          [6.32192850e-01, 5.66366553e-01, 5.26870787e-01],\n",
       "          [6.78431392e-01, 6.23529434e-01, 5.80392182e-01],\n",
       "          ...,\n",
       "          [6.79458499e-01, 5.39682567e-01, 1.03267901e-01],\n",
       "          [6.82633042e-01, 5.41436613e-01, 6.41456395e-02],\n",
       "          [6.82266235e-01, 5.60590923e-01, 7.08683431e-02]],\n",
       " \n",
       "         [[6.60877705e-01, 5.94211042e-01, 5.54995358e-01],\n",
       "          [6.31399214e-01, 5.65572858e-01, 5.26077092e-01],\n",
       "          [6.62596166e-01, 6.07694209e-01, 5.64556956e-01],\n",
       "          ...,\n",
       "          [6.82128429e-01, 5.42352498e-01, 1.04332775e-01],\n",
       "          [6.84500456e-01, 5.44691205e-01, 7.49432966e-02],\n",
       "          [6.81139112e-01, 5.58076560e-01, 7.45098069e-02]],\n",
       " \n",
       "         ...,\n",
       " \n",
       "         [[7.89915770e-02, 9.85994190e-02, 7.50700086e-02],\n",
       "          [8.77684280e-02, 1.07376270e-01, 8.38468596e-02],\n",
       "          [8.02054033e-02, 9.98132452e-02, 7.62838349e-02],\n",
       "          ...,\n",
       "          [9.41176489e-02, 1.13725491e-01, 9.80392173e-02],\n",
       "          [9.01960805e-02, 1.09803922e-01, 9.41176489e-02],\n",
       "          [8.23529437e-02, 1.01960786e-01, 8.62745121e-02]],\n",
       " \n",
       "         [[7.72175491e-02, 9.68253911e-02, 7.32959807e-02],\n",
       "          [8.57343003e-02, 1.05342150e-01, 8.18127319e-02],\n",
       "          [7.83046558e-02, 9.79124978e-02, 7.43830875e-02],\n",
       "          ...,\n",
       "          [9.41176489e-02, 1.13725491e-01, 9.80392173e-02],\n",
       "          [9.01960805e-02, 1.09803922e-01, 9.41176489e-02],\n",
       "          [8.26330483e-02, 1.02240890e-01, 8.65546167e-02]],\n",
       " \n",
       "         [[9.01960805e-02, 1.09803922e-01, 8.62745121e-02],\n",
       "          [8.62745121e-02, 1.05882354e-01, 8.23529437e-02],\n",
       "          [8.62745121e-02, 1.05882354e-01, 8.23529437e-02],\n",
       "          ...,\n",
       "          [9.37441364e-02, 1.13351978e-01, 9.76657048e-02],\n",
       "          [9.01960805e-02, 1.09803922e-01, 9.41176489e-02],\n",
       "          [6.24649934e-02, 8.20728391e-02, 6.63865656e-02]]],\n",
       " \n",
       " \n",
       "        ...,\n",
       " \n",
       " \n",
       "        [[[2.85716474e-01, 3.44540030e-01, 1.21010624e-01],\n",
       "          [2.95871675e-01, 3.62538368e-01, 1.47692412e-01],\n",
       "          [2.79716343e-01, 3.52754414e-01, 1.54704109e-01],\n",
       "          ...,\n",
       "          [0.00000000e+00, 0.00000000e+00, 0.00000000e+00],\n",
       "          [0.00000000e+00, 0.00000000e+00, 0.00000000e+00],\n",
       "          [0.00000000e+00, 0.00000000e+00, 0.00000000e+00]],\n",
       " \n",
       "         [[3.66033077e-01, 4.36341196e-01, 2.09730566e-01],\n",
       "          [3.63025188e-01, 4.30492193e-01, 2.15386152e-01],\n",
       "          [3.03261280e-01, 3.77397597e-01, 1.75250098e-01],\n",
       "          ...,\n",
       "          [0.00000000e+00, 0.00000000e+00, 0.00000000e+00],\n",
       "          [0.00000000e+00, 0.00000000e+00, 0.00000000e+00],\n",
       "          [0.00000000e+00, 0.00000000e+00, 0.00000000e+00]],\n",
       " \n",
       "         [[4.23484951e-01, 4.99115199e-01, 2.80721188e-01],\n",
       "          [4.41489935e-01, 5.19547820e-01, 3.02087516e-01],\n",
       "          [3.81005734e-01, 4.58056539e-01, 2.50417948e-01],\n",
       "          ...,\n",
       "          [0.00000000e+00, 0.00000000e+00, 0.00000000e+00],\n",
       "          [0.00000000e+00, 0.00000000e+00, 0.00000000e+00],\n",
       "          [0.00000000e+00, 0.00000000e+00, 0.00000000e+00]],\n",
       " \n",
       "         ...,\n",
       " \n",
       "         [[5.37628293e-01, 5.27637601e-01, 4.64518964e-01],\n",
       "          [4.92403567e-01, 4.82412905e-01, 4.19294298e-01],\n",
       "          [4.42708164e-01, 4.32717472e-01, 3.69598866e-01],\n",
       "          ...,\n",
       "          [0.00000000e+00, 0.00000000e+00, 0.00000000e+00],\n",
       "          [0.00000000e+00, 0.00000000e+00, 0.00000000e+00],\n",
       "          [0.00000000e+00, 0.00000000e+00, 0.00000000e+00]],\n",
       " \n",
       "         [[5.19714594e-01, 4.97025460e-01, 4.34000254e-01],\n",
       "          [4.73429352e-01, 4.50740248e-01, 3.87715071e-01],\n",
       "          [4.37595040e-01, 4.14905965e-01, 3.51880759e-01],\n",
       "          ...,\n",
       "          [0.00000000e+00, 0.00000000e+00, 0.00000000e+00],\n",
       "          [0.00000000e+00, 0.00000000e+00, 0.00000000e+00],\n",
       "          [0.00000000e+00, 0.00000000e+00, 0.00000000e+00]],\n",
       " \n",
       "         [[7.16524422e-01, 6.92995012e-01, 6.30249918e-01],\n",
       "          [6.32466376e-01, 6.08936965e-01, 5.46191871e-01],\n",
       "          [5.66640079e-01, 5.43110669e-01, 4.80365545e-01],\n",
       "          ...,\n",
       "          [0.00000000e+00, 0.00000000e+00, 0.00000000e+00],\n",
       "          [0.00000000e+00, 0.00000000e+00, 0.00000000e+00],\n",
       "          [0.00000000e+00, 0.00000000e+00, 0.00000000e+00]]],\n",
       " \n",
       " \n",
       "        [[[3.60784322e-01, 3.29411775e-01, 2.80232102e-01],\n",
       "          [3.55742306e-01, 3.32212895e-01, 2.77310938e-01],\n",
       "          [3.81792694e-01, 3.58263284e-01, 3.11204463e-01],\n",
       "          ...,\n",
       "          [4.22989339e-01, 4.11224633e-01, 3.89936537e-01],\n",
       "          [3.91976535e-01, 3.80211830e-01, 3.52760851e-01],\n",
       "          [3.87735039e-01, 3.68127197e-01, 3.44597787e-01]],\n",
       " \n",
       "         [[4.25390154e-01, 4.05782312e-01, 3.90096039e-01],\n",
       "          [4.27751094e-01, 3.96378547e-01, 3.84613842e-01],\n",
       "          [5.18307388e-01, 5.18307388e-01, 4.79091704e-01],\n",
       "          ...,\n",
       "          [4.04981822e-01, 3.89295548e-01, 3.54001433e-01],\n",
       "          [3.92156869e-01, 3.76470596e-01, 3.41176480e-01],\n",
       "          [3.88055235e-01, 3.68447393e-01, 3.44917983e-01]],\n",
       " \n",
       "         [[4.03921574e-01, 3.76470596e-01, 3.52941185e-01],\n",
       "          [4.11264479e-01, 3.83813500e-01, 3.60284090e-01],\n",
       "          [4.17366922e-01, 3.99159670e-01, 3.56862754e-01],\n",
       "          ...,\n",
       "          [4.03921574e-01, 3.76470596e-01, 3.45098048e-01],\n",
       "          [3.84373844e-01, 3.64766002e-01, 3.41236591e-01],\n",
       "          [3.87394965e-01, 3.59943986e-01, 3.28571439e-01]],\n",
       " \n",
       "         ...,\n",
       " \n",
       "         [[2.19607845e-01, 1.88235298e-01, 1.80392161e-01],\n",
       "          [2.20668510e-01, 1.89295962e-01, 1.77531257e-01],\n",
       "          [4.44257736e-01, 3.42857152e-01, 3.59383762e-01],\n",
       "          ...,\n",
       "          [2.87775159e-01, 2.95618296e-01, 3.42677116e-01],\n",
       "          [2.35794067e-01, 2.25710586e-01, 2.52320945e-01],\n",
       "          [1.62745103e-01, 1.43137261e-01, 1.66666672e-01]],\n",
       " \n",
       "         [[2.11764708e-01, 1.92156866e-01, 1.80392161e-01],\n",
       "          [2.07843140e-01, 1.88235298e-01, 1.72549024e-01],\n",
       "          [4.76690650e-01, 3.77811074e-01, 3.92657012e-01],\n",
       "          ...,\n",
       "          [2.50480294e-01, 2.38715589e-01, 2.66166568e-01],\n",
       "          [1.87934741e-01, 1.68326899e-01, 1.91856310e-01],\n",
       "          [1.75350413e-01, 1.55742571e-01, 1.79271981e-01]],\n",
       " \n",
       "         [[2.07843140e-01, 1.92156866e-01, 1.80392161e-01],\n",
       "          [2.23529413e-01, 1.92156866e-01, 1.80392161e-01],\n",
       "          [4.80652392e-01, 3.81772846e-01, 3.96618783e-01],\n",
       "          ...,\n",
       "          [2.23268926e-01, 2.02820942e-01, 2.32792318e-01],\n",
       "          [1.52941182e-01, 1.29411772e-01, 1.37254909e-01],\n",
       "          [2.84934551e-01, 2.73169845e-01, 3.00620824e-01]]],\n",
       " \n",
       " \n",
       "        [[[3.70248109e-01, 3.27110857e-01, 3.03581446e-01],\n",
       "          [3.80392164e-01, 3.56862754e-01, 3.09803933e-01],\n",
       "          [3.75370175e-01, 3.71448606e-01, 2.99179673e-01],\n",
       "          ...,\n",
       "          [4.17626917e-01, 4.01940644e-01, 3.58803391e-01],\n",
       "          [4.00200367e-01, 3.72749388e-01, 3.33533704e-01],\n",
       "          [3.89135599e-01, 3.73449326e-01, 3.26390505e-01]],\n",
       " \n",
       "         [[4.44717884e-01, 4.17266905e-01, 3.93737495e-01],\n",
       "          [4.27470982e-01, 4.07863140e-01, 3.84333730e-01],\n",
       "          [4.97639120e-01, 4.97639120e-01, 4.66266543e-01],\n",
       "          ...,\n",
       "          [4.02801335e-01, 3.88795316e-01, 3.44817936e-01],\n",
       "          [3.83752674e-01, 3.68066400e-01, 3.21007580e-01],\n",
       "          [3.72549027e-01, 3.56862754e-01, 3.09803933e-01]],\n",
       " \n",
       "         [[4.07022804e-01, 3.81252497e-01, 3.57723057e-01],\n",
       "          [4.08123255e-01, 3.72829109e-01, 3.53221267e-01],\n",
       "          [4.07843143e-01, 3.80392164e-01, 3.49019617e-01],\n",
       "          ...,\n",
       "          [4.00660098e-01, 3.73209119e-01, 3.33993435e-01],\n",
       "          [3.80392164e-01, 3.64705890e-01, 3.21568638e-01],\n",
       "          [3.62185001e-01, 3.47339064e-01, 2.97759235e-01]],\n",
       " \n",
       "         ...,\n",
       " \n",
       "         [[1.86834738e-01, 1.67226896e-01, 1.51540607e-01],\n",
       "          [1.81452826e-01, 1.61844984e-01, 1.49239659e-01],\n",
       "          [4.00940329e-01, 3.20828289e-01, 3.25590193e-01],\n",
       "          ...,\n",
       "          [2.54901975e-01, 2.50980407e-01, 2.74509817e-01],\n",
       "          [2.53560454e-01, 2.43476957e-01, 2.77930468e-01],\n",
       "          [2.04202086e-01, 1.96358949e-01, 2.15966791e-01]],\n",
       " \n",
       "         [[2.03821555e-01, 1.72448993e-01, 1.60684288e-01],\n",
       "          [2.03661472e-01, 1.72288924e-01, 1.60524204e-01],\n",
       "          [4.35014039e-01, 3.36134493e-01, 3.50980431e-01],\n",
       "          ...,\n",
       "          [2.54901975e-01, 2.50980407e-01, 2.74509817e-01],\n",
       "          [2.30811983e-01, 2.11204141e-01, 2.34733552e-01],\n",
       "          [1.64425835e-01, 1.56582698e-01, 1.76190540e-01]],\n",
       " \n",
       "         [[1.91656619e-01, 1.72048777e-01, 1.56362489e-01],\n",
       "          [1.97659180e-01, 1.78051338e-01, 1.62365064e-01],\n",
       "          [4.55182105e-01, 3.55462193e-01, 3.71988803e-01],\n",
       "          ...,\n",
       "          [2.27991030e-01, 2.20147893e-01, 2.39755750e-01],\n",
       "          [1.94397211e-01, 1.74789369e-01, 1.90475643e-01],\n",
       "          [1.46498740e-01, 1.34734035e-01, 1.62185013e-01]]]],\n",
       "       dtype=float32),\n",
       " array([0., 0., 0., 1., 0., 1., 0., 1., 1., 1., 0., 0., 1., 1.],\n",
       "       dtype=float32))"
      ]
     },
     "execution_count": 96,
     "metadata": {},
     "output_type": "execute_result"
    }
   ],
   "source": [
    "batch"
   ]
  },
  {
   "cell_type": "code",
   "execution_count": 99,
   "id": "299f4e27",
   "metadata": {},
   "outputs": [],
   "source": [
    "y = batch[2]"
   ]
  },
  {
   "cell_type": "code",
   "execution_count": 100,
   "id": "9fa6c663",
   "metadata": {},
   "outputs": [
    {
     "data": {
      "text/plain": [
       "array([0., 0., 0., 1., 0., 1., 0., 1., 1., 1., 0., 0., 1., 1.],\n",
       "      dtype=float32)"
      ]
     },
     "execution_count": 100,
     "metadata": {},
     "output_type": "execute_result"
    }
   ],
   "source": [
    "y"
   ]
  },
  {
   "cell_type": "code",
   "execution_count": 91,
   "id": "7cd97799",
   "metadata": {},
   "outputs": [],
   "source": [
    "tf.losses.BinaryCrossentropy??"
   ]
  },
  {
   "cell_type": "code",
   "execution_count": 92,
   "id": "d134751d",
   "metadata": {},
   "outputs": [
    {
     "name": "stderr",
     "output_type": "stream",
     "text": [
      "WARNING:absl:At this time, the v2.11+ optimizer `tf.keras.optimizers.Adam` runs slowly on M1/M2 Macs, please use the legacy Keras optimizer instead, located at `tf.keras.optimizers.legacy.Adam`.\n"
     ]
    }
   ],
   "source": [
    "# Instantiate the optimizer outside of tf.function\n",
    "opt = tf.keras.optimizers.Adam()\n",
    "\n",
    "@tf.function\n",
    "def train_step(batch):\n",
    "    with tf.GradientTape() as tape:\n",
    "        # Forward pass\n",
    "        X = batch[:2]\n",
    "        y = batch[2]\n",
    "        yhat = siamese_model(X, training=True)\n",
    "        loss = binary_cross_loss(y, yhat)\n",
    "\n",
    "    # Compute gradients\n",
    "    grads = tape.gradient(loss, siamese_model.trainable_variables)\n",
    "\n",
    "    # Pair gradients with variables\n",
    "    grads_and_vars = list(zip(grads, siamese_model.trainable_variables))\n",
    "\n",
    "    # Apply gradients using the optimizer instantiated outside tf.function\n",
    "    opt.apply_gradients(grads_and_vars)\n",
    "\n",
    "    # Ensure the optimizer state is updated\n",
    "    opt.iterations.assign_add(1)\n",
    "\n",
    "    return loss"
   ]
  },
  {
   "cell_type": "markdown",
   "id": "48aa7f1a",
   "metadata": {},
   "source": [
    "# 5.4 Build Training Loop"
   ]
  },
  {
   "cell_type": "code",
   "execution_count": 101,
   "id": "66623c21",
   "metadata": {},
   "outputs": [],
   "source": [
    "def train(data, EPOCHS):\n",
    "    # Loop through epochs\n",
    "    for epoch in range(1, EPOCHS+1):\n",
    "        print('\\n Epoch {}/{}'.format(epoch, EPOCHS))\n",
    "        progbar = tf.keras.utils.Progbar(len(data))\n",
    "                \n",
    "        # Loop through each batch\n",
    "        for idx, batch in enumerate(data):\n",
    "            \n",
    "            # Run train step here\n",
    "            train_step(batch)\n",
    "            progbar.update(idx+1)\n",
    "            \n",
    "        # Save checkpoints\n",
    "        if epoch % 10 == 0: \n",
    "            checkpoint.save(file_prefix=checkpoint_prefix)"
   ]
  },
  {
   "cell_type": "markdown",
   "id": "c90a3d0a",
   "metadata": {},
   "source": [
    "# 5.5 Train the Model"
   ]
  },
  {
   "cell_type": "code",
   "execution_count": 102,
   "id": "e01f022a",
   "metadata": {},
   "outputs": [],
   "source": [
    "EPOCHS = 50"
   ]
  },
  {
   "cell_type": "code",
   "execution_count": 103,
   "id": "5a8d2e28",
   "metadata": {
    "collapsed": true
   },
   "outputs": [
    {
     "name": "stdout",
     "output_type": "stream",
     "text": [
      "\n",
      " Epoch 1/50\n",
      "1/1 [==============================] - 3s 3s/step\n",
      "\n",
      " Epoch 2/50\n",
      "1/1 [==============================] - 3s 3s/step\n",
      "\n",
      " Epoch 3/50\n",
      "1/1 [==============================] - 3s 3s/step\n",
      "\n",
      " Epoch 4/50\n",
      "1/1 [==============================] - 3s 3s/step\n",
      "\n",
      " Epoch 5/50\n",
      "1/1 [==============================] - 3s 3s/step\n",
      "\n",
      " Epoch 6/50\n",
      "1/1 [==============================] - 3s 3s/step\n",
      "\n",
      " Epoch 7/50\n",
      "1/1 [==============================] - 3s 3s/step\n",
      "\n",
      " Epoch 8/50\n",
      "1/1 [==============================] - 3s 3s/step\n",
      "\n",
      " Epoch 9/50\n",
      "1/1 [==============================] - 3s 3s/step\n",
      "\n",
      " Epoch 10/50\n",
      "1/1 [==============================] - 3s 3s/step\n",
      "\n",
      " Epoch 11/50\n",
      "1/1 [==============================] - 3s 3s/step\n",
      "\n",
      " Epoch 12/50\n",
      "1/1 [==============================] - 3s 3s/step\n",
      "\n",
      " Epoch 13/50\n",
      "1/1 [==============================] - 3s 3s/step\n",
      "\n",
      " Epoch 14/50\n",
      "1/1 [==============================] - 3s 3s/step\n",
      "\n",
      " Epoch 15/50\n",
      "1/1 [==============================] - 3s 3s/step\n",
      "\n",
      " Epoch 16/50\n",
      "1/1 [==============================] - 3s 3s/step\n",
      "\n",
      " Epoch 17/50\n",
      "1/1 [==============================] - 3s 3s/step\n",
      "\n",
      " Epoch 18/50\n",
      "1/1 [==============================] - 3s 3s/step\n",
      "\n",
      " Epoch 19/50\n",
      "1/1 [==============================] - 3s 3s/step\n",
      "\n",
      " Epoch 20/50\n",
      "1/1 [==============================] - 3s 3s/step\n",
      "\n",
      " Epoch 21/50\n",
      "1/1 [==============================] - 3s 3s/step\n",
      "\n",
      " Epoch 22/50\n",
      "1/1 [==============================] - 3s 3s/step\n",
      "\n",
      " Epoch 23/50\n",
      "1/1 [==============================] - 3s 3s/step\n",
      "\n",
      " Epoch 24/50\n",
      "1/1 [==============================] - 3s 3s/step\n",
      "\n",
      " Epoch 25/50\n",
      "1/1 [==============================] - 3s 3s/step\n",
      "\n",
      " Epoch 26/50\n",
      "1/1 [==============================] - 3s 3s/step\n",
      "\n",
      " Epoch 27/50\n",
      "1/1 [==============================] - 3s 3s/step\n",
      "\n",
      " Epoch 28/50\n",
      "1/1 [==============================] - 3s 3s/step\n",
      "\n",
      " Epoch 29/50\n",
      "1/1 [==============================] - 3s 3s/step\n",
      "\n",
      " Epoch 30/50\n",
      "1/1 [==============================] - 3s 3s/step\n",
      "\n",
      " Epoch 31/50\n",
      "1/1 [==============================] - 3s 3s/step\n",
      "\n",
      " Epoch 32/50\n",
      "1/1 [==============================] - 3s 3s/step\n",
      "\n",
      " Epoch 33/50\n",
      "1/1 [==============================] - 3s 3s/step\n",
      "\n",
      " Epoch 34/50\n",
      "1/1 [==============================] - 3s 3s/step\n",
      "\n",
      " Epoch 35/50\n",
      "1/1 [==============================] - 3s 3s/step\n",
      "\n",
      " Epoch 36/50\n",
      "1/1 [==============================] - 3s 3s/step\n",
      "\n",
      " Epoch 37/50\n",
      "1/1 [==============================] - 3s 3s/step\n",
      "\n",
      " Epoch 38/50\n",
      "1/1 [==============================] - 3s 3s/step\n",
      "\n",
      " Epoch 39/50\n",
      "1/1 [==============================] - 3s 3s/step\n",
      "\n",
      " Epoch 40/50\n",
      "1/1 [==============================] - 3s 3s/step\n",
      "\n",
      " Epoch 41/50\n",
      "1/1 [==============================] - 3s 3s/step\n",
      "\n",
      " Epoch 42/50\n",
      "1/1 [==============================] - 3s 3s/step\n",
      "\n",
      " Epoch 43/50\n",
      "1/1 [==============================] - 3s 3s/step\n",
      "\n",
      " Epoch 44/50\n",
      "1/1 [==============================] - 3s 3s/step\n",
      "\n",
      " Epoch 45/50\n",
      "1/1 [==============================] - 3s 3s/step\n",
      "\n",
      " Epoch 46/50\n",
      "1/1 [==============================] - 3s 3s/step\n",
      "\n",
      " Epoch 47/50\n",
      "1/1 [==============================] - 3s 3s/step\n",
      "\n",
      " Epoch 48/50\n",
      "1/1 [==============================] - 3s 3s/step\n",
      "\n",
      " Epoch 49/50\n",
      "1/1 [==============================] - 3s 3s/step\n",
      "\n",
      " Epoch 50/50\n",
      "1/1 [==============================] - 3s 3s/step\n"
     ]
    }
   ],
   "source": [
    "train(train_data, EPOCHS)"
   ]
  },
  {
   "cell_type": "markdown",
   "id": "30075919",
   "metadata": {},
   "source": [
    "# 6 Evaluate Model"
   ]
  },
  {
   "cell_type": "markdown",
   "id": "6f29718f",
   "metadata": {},
   "source": [
    "# 6.1 Import Metrics"
   ]
  },
  {
   "cell_type": "code",
   "execution_count": 104,
   "id": "fab34b12",
   "metadata": {},
   "outputs": [],
   "source": [
    "# Import metric calculations\n",
    "from tensorflow.keras.metrics import Precision, Recall"
   ]
  },
  {
   "cell_type": "markdown",
   "id": "8c11bb83",
   "metadata": {},
   "source": [
    "# 6.2 Make Predictions"
   ]
  },
  {
   "cell_type": "code",
   "execution_count": 105,
   "id": "c65096ec",
   "metadata": {},
   "outputs": [],
   "source": [
    "# Get a batch of test data\n",
    "test_input, test_val, y_true = test_data.as_numpy_iterator().next()"
   ]
  },
  {
   "cell_type": "code",
   "execution_count": 106,
   "id": "78127f10",
   "metadata": {},
   "outputs": [],
   "source": [
    "test_var = test_data.as_numpy_iterator().next()"
   ]
  },
  {
   "cell_type": "code",
   "execution_count": 107,
   "id": "8f4f5016",
   "metadata": {},
   "outputs": [
    {
     "name": "stdout",
     "output_type": "stream",
     "text": [
      "1/1 [==============================] - 0s 391ms/step\n"
     ]
    },
    {
     "data": {
      "text/plain": [
       "array([[1.1918838e-04],\n",
       "       [9.9995869e-01],\n",
       "       [9.9998134e-01],\n",
       "       [8.3331879e-06],\n",
       "       [9.9998498e-01],\n",
       "       [9.9999237e-01]], dtype=float32)"
      ]
     },
     "execution_count": 107,
     "metadata": {},
     "output_type": "execute_result"
    }
   ],
   "source": [
    "# Make predictions\n",
    "y_hat = siamese_model.predict([test_input, test_val])\n",
    "y_hat"
   ]
  },
  {
   "cell_type": "code",
   "execution_count": 108,
   "id": "ec569a12",
   "metadata": {},
   "outputs": [
    {
     "data": {
      "text/plain": [
       "6"
      ]
     },
     "execution_count": 108,
     "metadata": {},
     "output_type": "execute_result"
    }
   ],
   "source": [
    "len(test_var[2])"
   ]
  },
  {
   "cell_type": "code",
   "execution_count": 109,
   "id": "ebb3268a",
   "metadata": {},
   "outputs": [
    {
     "data": {
      "text/plain": [
       "[0, 1, 1, 0, 1, 1]"
      ]
     },
     "execution_count": 109,
     "metadata": {},
     "output_type": "execute_result"
    }
   ],
   "source": [
    "# Post processing the results \n",
    "[1 if prediction > 0.5 else 0 for prediction in y_hat ]"
   ]
  },
  {
   "cell_type": "code",
   "execution_count": 110,
   "id": "da3d3861",
   "metadata": {},
   "outputs": [
    {
     "data": {
      "text/plain": [
       "array([0., 1., 1., 0., 1., 1.], dtype=float32)"
      ]
     },
     "execution_count": 110,
     "metadata": {},
     "output_type": "execute_result"
    }
   ],
   "source": [
    "y_true"
   ]
  },
  {
   "cell_type": "markdown",
   "id": "be4961e1",
   "metadata": {},
   "source": [
    "# 6.3 Calculate Metrics"
   ]
  },
  {
   "cell_type": "code",
   "execution_count": 111,
   "id": "71166db6",
   "metadata": {},
   "outputs": [
    {
     "data": {
      "text/plain": [
       "1.0"
      ]
     },
     "execution_count": 111,
     "metadata": {},
     "output_type": "execute_result"
    }
   ],
   "source": [
    "# Creating a metric object \n",
    "m = Recall()\n",
    "\n",
    "# Calculating the recall value \n",
    "m.update_state(y_true, y_hat)\n",
    "\n",
    "# Return Recall Result\n",
    "m.result().numpy()"
   ]
  },
  {
   "cell_type": "code",
   "execution_count": 112,
   "id": "5c1feff0",
   "metadata": {},
   "outputs": [
    {
     "data": {
      "text/plain": [
       "1.0"
      ]
     },
     "execution_count": 112,
     "metadata": {},
     "output_type": "execute_result"
    }
   ],
   "source": [
    "# Creating a metric object \n",
    "m = Precision()\n",
    "\n",
    "# Calculating the recall value \n",
    "m.update_state(y_true, y_hat)\n",
    "\n",
    "# Return Recall Result\n",
    "m.result().numpy()"
   ]
  },
  {
   "cell_type": "code",
   "execution_count": 113,
   "id": "3fb5c641",
   "metadata": {},
   "outputs": [
    {
     "name": "stdout",
     "output_type": "stream",
     "text": [
      "1/1 [==============================] - 0s 336ms/step\n",
      "1.0 1.0\n"
     ]
    }
   ],
   "source": [
    "r = Recall()\n",
    "p = Precision()\n",
    "\n",
    "for test_input, test_val, y_true in test_data.as_numpy_iterator():\n",
    "    yhat = siamese_model.predict([test_input, test_val])\n",
    "    r.update_state(y_true, yhat)\n",
    "    p.update_state(y_true,yhat) \n",
    "\n",
    "print(r.result().numpy(), p.result().numpy())"
   ]
  },
  {
   "cell_type": "markdown",
   "id": "e21c84ca",
   "metadata": {},
   "source": [
    "# 6.4 Visualise Results"
   ]
  },
  {
   "cell_type": "code",
   "execution_count": 117,
   "id": "d32d4d8f",
   "metadata": {},
   "outputs": [
    {
     "data": {
      "image/png": "[encoded data removed]",
      "text/plain": [
       "<Figure size 1000x800 with 2 Axes>"
      ]
     },
     "metadata": {},
     "output_type": "display_data"
    }
   ],
   "source": [
    "# Set plot size \n",
    "plt.figure(figsize=(10,8))\n",
    "\n",
    "# Set first subplot\n",
    "plt.subplot(1,2,1)\n",
    "plt.imshow(test_input[4])\n",
    "\n",
    "# Set second subplot\n",
    "plt.subplot(1,2,2)\n",
    "plt.imshow(test_val[4])\n",
    "\n",
    "# Renders cleanly\n",
    "plt.show()"
   ]
  },
  {
   "cell_type": "markdown",
   "id": "811cd6ba",
   "metadata": {},
   "source": [
    "# 7 Save the Model"
   ]
  },
  {
   "cell_type": "code",
   "execution_count": 118,
   "id": "47a31ded",
   "metadata": {},
   "outputs": [
    {
     "name": "stdout",
     "output_type": "stream",
     "text": [
      "WARNING:tensorflow:Compiled the loaded model, but the compiled metrics have yet to be built. `model.compile_metrics` will be empty until you train or evaluate the model.\n"
     ]
    },
    {
     "name": "stderr",
     "output_type": "stream",
     "text": [
      "/Applications/anaconda3/lib/python3.11/site-packages/keras/src/engine/training.py:3079: UserWarning: You are saving your model as an HDF5 file via `model.save()`. This file format is considered legacy. We recommend using instead the native Keras format, e.g. `model.save('my_model.keras')`.\n",
      "  saving_api.save_model(\n",
      "WARNING:tensorflow:Compiled the loaded model, but the compiled metrics have yet to be built. `model.compile_metrics` will be empty until you train or evaluate the model.\n"
     ]
    }
   ],
   "source": [
    "# Save weights\n",
    "siamese_model.save('siamesemodel.h5')"
   ]
  },
  {
   "cell_type": "code",
   "execution_count": 119,
   "id": "d7d29de3",
   "metadata": {},
   "outputs": [
    {
     "name": "stdout",
     "output_type": "stream",
     "text": [
      "WARNING:tensorflow:No training configuration found in the save file, so the model was *not* compiled. Compile it manually.\n"
     ]
    },
    {
     "name": "stderr",
     "output_type": "stream",
     "text": [
      "WARNING:tensorflow:No training configuration found in the save file, so the model was *not* compiled. Compile it manually.\n"
     ]
    }
   ],
   "source": [
    "# Reload model \n",
    "siamese_model = tf.keras.models.load_model('siamesemodel.h5', \n",
    "                                   custom_objects={'L1Dist':L1Dist, 'BinaryCrossentropy':tf.losses.BinaryCrossentropy})"
   ]
  },
  {
   "cell_type": "code",
   "execution_count": 120,
   "id": "ca4387b4",
   "metadata": {},
   "outputs": [
    {
     "name": "stdout",
     "output_type": "stream",
     "text": [
      "1/1 [==============================] - 0s 414ms/step\n"
     ]
    },
    {
     "data": {
      "text/plain": [
       "array([[4.3815857e-05],\n",
       "       [9.1308961e-05],\n",
       "       [1.1918838e-04],\n",
       "       [3.3044084e-06],\n",
       "       [9.9961710e-01],\n",
       "       [9.9998134e-01]], dtype=float32)"
      ]
     },
     "execution_count": 120,
     "metadata": {},
     "output_type": "execute_result"
    }
   ],
   "source": [
    "# Make predictions with reloaded model\n",
    "siamese_model.predict([test_input, test_val])"
   ]
  },
  {
   "cell_type": "code",
   "execution_count": 121,
   "id": "a551b85a",
   "metadata": {},
   "outputs": [
    {
     "name": "stdout",
     "output_type": "stream",
     "text": [
      "Model: \"SiameseNetwork\"\n",
      "__________________________________________________________________________________________________\n",
      " Layer (type)                Output Shape                 Param #   Connected to                  \n",
      "==================================================================================================\n",
      " input_img (InputLayer)      [(None, 105, 105, 3)]        0         []                            \n",
      "                                                                                                  \n",
      " validation_img (InputLayer  [(None, 105, 105, 3)]        0         []                            \n",
      " )                                                                                                \n",
      "                                                                                                  \n",
      " embedding (Functional)      (None, 4096)                 3896044   ['input_img[0][0]',           \n",
      "                                                          8          'validation_img[0][0]']      \n",
      "                                                                                                  \n",
      " l1_dist_2 (L1Dist)          (None, 4096)                 0         ['embedding[0][0]',           \n",
      "                                                                     'embedding[1][0]']           \n",
      "                                                                                                  \n",
      " dense_3 (Dense)             (None, 1)                    4097      ['l1_dist_2[0][0]']           \n",
      "                                                                                                  \n",
      "==================================================================================================\n",
      "Total params: 38964545 (148.64 MB)\n",
      "Trainable params: 38964545 (148.64 MB)\n",
      "Non-trainable params: 0 (0.00 Byte)\n",
      "__________________________________________________________________________________________________\n"
     ]
    }
   ],
   "source": [
    "# View model summary\n",
    "siamese_model.summary()"
   ]
  },
  {
   "cell_type": "markdown",
   "id": "41398825",
   "metadata": {},
   "source": [
    "# 8 Real Time Test"
   ]
  },
  {
   "cell_type": "markdown",
   "id": "03f8bb4d",
   "metadata": {},
   "source": [
    "# 8.1 Real Time Function"
   ]
  },
  {
   "cell_type": "code",
   "execution_count": 125,
   "id": "ae43de3f",
   "metadata": {},
   "outputs": [],
   "source": [
    "def verify(model, detection_threshold, verification_threshold):\n",
    "    # Build results array\n",
    "    results = []\n",
    "\n",
    "    for image_file in os.listdir(os.path.join('application_data', 'verification_images')):\n",
    "        # Skip directories\n",
    "        if os.path.isdir(os.path.join('application_data', 'verification_images', image_file)):\n",
    "            continue\n",
    "\n",
    "        input_img = preprocess(os.path.join('application_data', 'input_image', 'input_image.jpg'))\n",
    "        validation_img = preprocess(os.path.join('application_data', 'verification_images', image_file))\n",
    "\n",
    "        # Make predictions\n",
    "        result = model.predict([np.expand_dims(input_img, axis=0), np.expand_dims(validation_img, axis=0)])\n",
    "        results.append(result)\n",
    "\n",
    "    # Detection Threshold: Metric above which a prediction is considered positive\n",
    "    detections = np.sum(np.array(results) > detection_threshold)\n",
    "\n",
    "    # Verification Threshold: Proportion of positive predictions over verification images\n",
    "    verification = detections / len(os.listdir(os.path.join('application_data', 'verification_images')))\n",
    "    verified = verification > verification_threshold\n",
    "\n",
    "    return results, verified"
   ]
  },
  {
   "cell_type": "markdown",
   "id": "be167e56",
   "metadata": {},
   "source": [
    "# 8.2 Open CV Real Time Verification"
   ]
  },
  {
   "cell_type": "code",
   "execution_count": null,
   "id": "ba510b8e",
   "metadata": {},
   "outputs": [
    {
     "name": "stdout",
     "output_type": "stream",
     "text": [
      "1/1 [==============================] - 1s 709ms/step\n",
      "1/1 [==============================] - 0s 149ms/step\n",
      "1/1 [==============================] - 0s 138ms/step\n",
      "1/1 [==============================] - 0s 135ms/step\n",
      "1/1 [==============================] - 0s 139ms/step\n",
      "1/1 [==============================] - 0s 180ms/step\n",
      "1/1 [==============================] - 0s 145ms/step\n",
      "1/1 [==============================] - 0s 139ms/step\n",
      "1/1 [==============================] - 0s 151ms/step\n",
      "1/1 [==============================] - 0s 138ms/step\n",
      "1/1 [==============================] - 0s 138ms/step\n",
      "1/1 [==============================] - 0s 139ms/step\n",
      "1/1 [==============================] - 0s 136ms/step\n",
      "1/1 [==============================] - 0s 146ms/step\n",
      "1/1 [==============================] - 0s 148ms/step\n",
      "1/1 [==============================] - 0s 142ms/step\n",
      "1/1 [==============================] - 0s 138ms/step\n",
      "1/1 [==============================] - 0s 138ms/step\n",
      "1/1 [==============================] - 0s 140ms/step\n",
      "1/1 [==============================] - 0s 138ms/step\n",
      "1/1 [==============================] - 0s 135ms/step\n",
      "1/1 [==============================] - 0s 136ms/step\n",
      "1/1 [==============================] - 0s 135ms/step\n",
      "1/1 [==============================] - 0s 140ms/step\n",
      "1/1 [==============================] - 0s 144ms/step\n",
      "1/1 [==============================] - 0s 136ms/step\n",
      "1/1 [==============================] - 0s 138ms/step\n",
      "True\n",
      "1/1 [==============================] - 0s 137ms/step\n",
      "1/1 [==============================] - 0s 149ms/step\n",
      "1/1 [==============================] - 0s 139ms/step\n",
      "1/1 [==============================] - 0s 144ms/step\n",
      "1/1 [==============================] - 0s 141ms/step\n",
      "1/1 [==============================] - 0s 135ms/step\n",
      "1/1 [==============================] - 0s 136ms/step\n",
      "1/1 [==============================] - 0s 138ms/step\n",
      "1/1 [==============================] - 0s 138ms/step\n",
      "1/1 [==============================] - 0s 138ms/step\n",
      "1/1 [==============================] - 0s 135ms/step\n",
      "1/1 [==============================] - 0s 138ms/step\n",
      "1/1 [==============================] - 0s 135ms/step\n",
      "1/1 [==============================] - 0s 136ms/step\n",
      "1/1 [==============================] - 0s 135ms/step\n",
      "1/1 [==============================] - 0s 137ms/step\n",
      "1/1 [==============================] - 0s 138ms/step\n",
      "1/1 [==============================] - 0s 137ms/step\n",
      "1/1 [==============================] - 0s 140ms/step\n",
      "1/1 [==============================] - 0s 141ms/step\n",
      "1/1 [==============================] - 0s 138ms/step\n",
      "1/1 [==============================] - 0s 138ms/step\n",
      "1/1 [==============================] - 0s 139ms/step\n",
      "1/1 [==============================] - 0s 135ms/step\n",
      "1/1 [==============================] - 0s 134ms/step\n",
      "1/1 [==============================] - 0s 136ms/step\n",
      "1/1 [==============================] - 0s 136ms/step\n",
      "True\n",
      "1/1 [==============================] - 0s 138ms/step\n",
      "1/1 [==============================] - 0s 135ms/step\n",
      "1/1 [==============================] - 0s 136ms/step\n",
      "1/1 [==============================] - 0s 139ms/step\n",
      "1/1 [==============================] - 0s 137ms/step\n",
      "1/1 [==============================] - 0s 134ms/step\n",
      "1/1 [==============================] - 0s 143ms/step\n",
      "1/1 [==============================] - 0s 165ms/step\n",
      "1/1 [==============================] - 0s 139ms/step\n",
      "1/1 [==============================] - 0s 141ms/step\n",
      "1/1 [==============================] - 0s 139ms/step\n",
      "1/1 [==============================] - 0s 156ms/step\n",
      "1/1 [==============================] - 0s 141ms/step\n",
      "1/1 [==============================] - 0s 145ms/step\n",
      "1/1 [==============================] - 0s 145ms/step\n",
      "1/1 [==============================] - 0s 147ms/step\n",
      "1/1 [==============================] - 0s 138ms/step\n",
      "1/1 [==============================] - 0s 137ms/step\n",
      "1/1 [==============================] - 0s 138ms/step\n",
      "1/1 [==============================] - 0s 136ms/step\n",
      "1/1 [==============================] - 0s 135ms/step\n",
      "1/1 [==============================] - 0s 139ms/step\n",
      "1/1 [==============================] - 0s 139ms/step\n",
      "1/1 [==============================] - 0s 137ms/step\n",
      "1/1 [==============================] - 0s 136ms/step\n",
      "1/1 [==============================] - 0s 137ms/step\n",
      "1/1 [==============================] - 0s 140ms/step\n",
      "True\n",
      "1/1 [==============================] - 0s 137ms/step\n",
      "1/1 [==============================] - 0s 144ms/step\n",
      "1/1 [==============================] - 0s 140ms/step\n",
      "1/1 [==============================] - 0s 138ms/step\n",
      "1/1 [==============================] - 0s 135ms/step\n",
      "1/1 [==============================] - 0s 139ms/step\n",
      "1/1 [==============================] - 0s 142ms/step\n",
      "1/1 [==============================] - 0s 139ms/step\n",
      "1/1 [==============================] - 0s 137ms/step\n",
      "1/1 [==============================] - 0s 136ms/step\n",
      "1/1 [==============================] - 0s 143ms/step\n",
      "1/1 [==============================] - 0s 146ms/step\n",
      "1/1 [==============================] - 0s 139ms/step\n",
      "1/1 [==============================] - 0s 150ms/step\n",
      "1/1 [==============================] - 0s 143ms/step\n",
      "1/1 [==============================] - 0s 143ms/step\n",
      "1/1 [==============================] - 0s 134ms/step\n",
      "1/1 [==============================] - 0s 134ms/step\n",
      "1/1 [==============================] - 0s 142ms/step\n",
      "1/1 [==============================] - 0s 137ms/step\n",
      "1/1 [==============================] - 0s 135ms/step\n",
      "1/1 [==============================] - 0s 150ms/step\n",
      "1/1 [==============================] - 0s 150ms/step\n",
      "1/1 [==============================] - 0s 136ms/step\n",
      "1/1 [==============================] - 0s 142ms/step\n",
      "1/1 [==============================] - 0s 136ms/step\n",
      "1/1 [==============================] - 0s 136ms/step\n",
      "True\n",
      "1/1 [==============================] - 0s 148ms/step\n",
      "1/1 [==============================] - 0s 145ms/step\n",
      "1/1 [==============================] - 0s 155ms/step\n",
      "1/1 [==============================] - 0s 153ms/step\n",
      "1/1 [==============================] - 0s 158ms/step\n",
      "1/1 [==============================] - 0s 157ms/step\n",
      "1/1 [==============================] - 0s 144ms/step\n",
      "1/1 [==============================] - 0s 142ms/step\n",
      "1/1 [==============================] - 0s 141ms/step\n",
      "1/1 [==============================] - 0s 147ms/step\n",
      "1/1 [==============================] - 0s 141ms/step\n",
      "1/1 [==============================] - 0s 141ms/step\n",
      "1/1 [==============================] - 0s 145ms/step\n",
      "1/1 [==============================] - 0s 149ms/step\n",
      "1/1 [==============================] - 0s 150ms/step\n",
      "1/1 [==============================] - 0s 148ms/step\n",
      "1/1 [==============================] - 0s 146ms/step\n",
      "1/1 [==============================] - 0s 142ms/step\n",
      "1/1 [==============================] - 0s 143ms/step\n",
      "1/1 [==============================] - 0s 141ms/step\n",
      "1/1 [==============================] - 0s 142ms/step\n",
      "1/1 [==============================] - 0s 139ms/step\n",
      "1/1 [==============================] - 0s 136ms/step\n",
      "1/1 [==============================] - 0s 136ms/step\n",
      "1/1 [==============================] - 0s 140ms/step\n",
      "1/1 [==============================] - 0s 142ms/step\n",
      "1/1 [==============================] - 0s 140ms/step\n",
      "True\n",
      "1/1 [==============================] - 0s 137ms/step\n",
      "1/1 [==============================] - 0s 137ms/step\n",
      "1/1 [==============================] - 0s 136ms/step\n",
      "1/1 [==============================] - 0s 139ms/step\n",
      "1/1 [==============================] - 0s 141ms/step\n",
      "1/1 [==============================] - 0s 144ms/step\n",
      "1/1 [==============================] - 0s 138ms/step\n",
      "1/1 [==============================] - 0s 142ms/step\n",
      "1/1 [==============================] - 0s 136ms/step\n",
      "1/1 [==============================] - 0s 136ms/step\n",
      "1/1 [==============================] - 0s 136ms/step\n",
      "1/1 [==============================] - 0s 137ms/step\n",
      "1/1 [==============================] - 0s 137ms/step\n",
      "1/1 [==============================] - 0s 136ms/step\n",
      "1/1 [==============================] - 0s 135ms/step\n",
      "1/1 [==============================] - 0s 137ms/step\n",
      "1/1 [==============================] - 0s 135ms/step\n",
      "1/1 [==============================] - 0s 134ms/step\n",
      "1/1 [==============================] - 0s 135ms/step\n"
     ]
    },
    {
     "name": "stdout",
     "output_type": "stream",
     "text": [
      "1/1 [==============================] - 0s 149ms/step\n",
      "1/1 [==============================] - 0s 141ms/step\n",
      "1/1 [==============================] - 0s 143ms/step\n",
      "1/1 [==============================] - 0s 142ms/step\n",
      "1/1 [==============================] - 0s 135ms/step\n",
      "1/1 [==============================] - 0s 136ms/step\n",
      "1/1 [==============================] - 0s 139ms/step\n",
      "1/1 [==============================] - 0s 139ms/step\n",
      "True\n",
      "1/1 [==============================] - 0s 150ms/step\n",
      "1/1 [==============================] - 0s 139ms/step\n",
      "1/1 [==============================] - 0s 141ms/step\n",
      "1/1 [==============================] - 0s 140ms/step\n",
      "1/1 [==============================] - 0s 137ms/step\n",
      "1/1 [==============================] - 0s 136ms/step\n",
      "1/1 [==============================] - 0s 136ms/step\n",
      "1/1 [==============================] - 0s 137ms/step\n",
      "1/1 [==============================] - 0s 172ms/step\n",
      "1/1 [==============================] - 0s 140ms/step\n",
      "1/1 [==============================] - 0s 139ms/step\n",
      "1/1 [==============================] - 0s 150ms/step\n",
      "1/1 [==============================] - 0s 138ms/step\n",
      "1/1 [==============================] - 0s 139ms/step\n",
      "1/1 [==============================] - 0s 142ms/step\n",
      "1/1 [==============================] - 0s 146ms/step\n",
      "1/1 [==============================] - 0s 146ms/step\n",
      "1/1 [==============================] - 0s 140ms/step\n",
      "1/1 [==============================] - 0s 145ms/step\n",
      "1/1 [==============================] - 0s 136ms/step\n",
      "1/1 [==============================] - 0s 136ms/step\n",
      "1/1 [==============================] - 0s 134ms/step\n",
      "1/1 [==============================] - 0s 140ms/step\n",
      "1/1 [==============================] - 0s 148ms/step\n",
      "1/1 [==============================] - 0s 139ms/step\n",
      "1/1 [==============================] - 0s 141ms/step\n",
      "1/1 [==============================] - 0s 138ms/step\n",
      "True\n",
      "1/1 [==============================] - 0s 139ms/step\n",
      "1/1 [==============================] - 0s 135ms/step\n",
      "1/1 [==============================] - 0s 138ms/step\n",
      "1/1 [==============================] - 0s 143ms/step\n",
      "1/1 [==============================] - 0s 142ms/step\n",
      "1/1 [==============================] - 0s 142ms/step\n",
      "1/1 [==============================] - 0s 145ms/step\n",
      "1/1 [==============================] - 0s 140ms/step\n",
      "1/1 [==============================] - 0s 141ms/step\n",
      "1/1 [==============================] - 0s 144ms/step\n",
      "1/1 [==============================] - 0s 137ms/step\n",
      "1/1 [==============================] - 0s 135ms/step\n",
      "1/1 [==============================] - 0s 134ms/step\n",
      "1/1 [==============================] - 0s 136ms/step\n",
      "1/1 [==============================] - 0s 135ms/step\n",
      "1/1 [==============================] - 0s 141ms/step\n",
      "1/1 [==============================] - 0s 141ms/step\n",
      "1/1 [==============================] - 0s 140ms/step\n",
      "1/1 [==============================] - 0s 140ms/step\n",
      "1/1 [==============================] - 0s 135ms/step\n",
      "1/1 [==============================] - 0s 136ms/step\n",
      "1/1 [==============================] - 0s 140ms/step\n",
      "1/1 [==============================] - 0s 144ms/step\n",
      "1/1 [==============================] - 0s 138ms/step\n",
      "1/1 [==============================] - 0s 139ms/step\n",
      "1/1 [==============================] - 0s 134ms/step\n",
      "1/1 [==============================] - 0s 134ms/step\n",
      "True\n",
      "1/1 [==============================] - 0s 141ms/step\n",
      "1/1 [==============================] - 0s 139ms/step\n",
      "1/1 [==============================] - 0s 137ms/step\n",
      "1/1 [==============================] - 0s 137ms/step\n",
      "1/1 [==============================] - 0s 144ms/step\n",
      "1/1 [==============================] - 0s 141ms/step\n",
      "1/1 [==============================] - 0s 139ms/step\n",
      "1/1 [==============================] - 0s 140ms/step\n",
      "1/1 [==============================] - 0s 140ms/step\n",
      "1/1 [==============================] - 0s 137ms/step\n",
      "1/1 [==============================] - 0s 154ms/step\n",
      "1/1 [==============================] - 0s 152ms/step\n",
      "1/1 [==============================] - 0s 157ms/step\n",
      "1/1 [==============================] - 0s 145ms/step\n",
      "1/1 [==============================] - 0s 138ms/step\n",
      "1/1 [==============================] - 0s 137ms/step\n",
      "1/1 [==============================] - 0s 135ms/step\n",
      "1/1 [==============================] - 0s 136ms/step\n",
      "1/1 [==============================] - 0s 141ms/step\n",
      "1/1 [==============================] - 0s 141ms/step\n",
      "1/1 [==============================] - 0s 145ms/step\n",
      "1/1 [==============================] - 0s 139ms/step\n",
      "1/1 [==============================] - 0s 137ms/step\n",
      "1/1 [==============================] - 0s 145ms/step\n",
      "1/1 [==============================] - 0s 142ms/step\n",
      "1/1 [==============================] - 0s 139ms/step\n",
      "1/1 [==============================] - 0s 138ms/step\n",
      "True\n",
      "1/1 [==============================] - 0s 138ms/step\n",
      "1/1 [==============================] - 0s 138ms/step\n",
      "1/1 [==============================] - 0s 136ms/step\n",
      "1/1 [==============================] - 0s 135ms/step\n",
      "1/1 [==============================] - 0s 141ms/step\n",
      "1/1 [==============================] - 0s 143ms/step\n",
      "1/1 [==============================] - 0s 142ms/step\n",
      "1/1 [==============================] - 0s 141ms/step\n",
      "1/1 [==============================] - 0s 140ms/step\n",
      "1/1 [==============================] - 0s 137ms/step\n",
      "1/1 [==============================] - 0s 136ms/step\n",
      "1/1 [==============================] - 0s 135ms/step\n",
      "1/1 [==============================] - 0s 145ms/step\n",
      "1/1 [==============================] - 0s 143ms/step\n",
      "1/1 [==============================] - 0s 141ms/step\n",
      "1/1 [==============================] - 0s 141ms/step\n",
      "1/1 [==============================] - 0s 135ms/step\n",
      "1/1 [==============================] - 0s 138ms/step\n",
      "1/1 [==============================] - 0s 137ms/step\n",
      "1/1 [==============================] - 0s 136ms/step\n",
      "1/1 [==============================] - 0s 136ms/step\n",
      "1/1 [==============================] - 0s 136ms/step\n",
      "1/1 [==============================] - 0s 135ms/step\n",
      "1/1 [==============================] - 0s 136ms/step\n",
      "1/1 [==============================] - 0s 137ms/step\n",
      "1/1 [==============================] - 0s 135ms/step\n",
      "1/1 [==============================] - 0s 140ms/step\n",
      "True\n",
      "1/1 [==============================] - 0s 168ms/step\n",
      "1/1 [==============================] - 0s 145ms/step\n",
      "1/1 [==============================] - 0s 146ms/step\n",
      "1/1 [==============================] - 0s 136ms/step\n",
      "1/1 [==============================] - 0s 137ms/step\n",
      "1/1 [==============================] - 0s 136ms/step\n",
      "1/1 [==============================] - 0s 147ms/step\n",
      "1/1 [==============================] - 0s 146ms/step\n",
      "1/1 [==============================] - 0s 147ms/step\n",
      "1/1 [==============================] - 0s 145ms/step\n",
      "1/1 [==============================] - 0s 135ms/step\n",
      "1/1 [==============================] - 0s 135ms/step\n",
      "1/1 [==============================] - 0s 141ms/step\n",
      "1/1 [==============================] - 0s 145ms/step\n",
      "1/1 [==============================] - 0s 146ms/step\n",
      "1/1 [==============================] - 0s 147ms/step\n",
      "1/1 [==============================] - 0s 142ms/step\n",
      "1/1 [==============================] - 0s 135ms/step\n",
      "1/1 [==============================] - 0s 136ms/step\n",
      "1/1 [==============================] - 0s 138ms/step\n",
      "1/1 [==============================] - 0s 138ms/step\n",
      "1/1 [==============================] - 0s 145ms/step\n",
      "1/1 [==============================] - 0s 142ms/step\n",
      "1/1 [==============================] - 0s 143ms/step\n",
      "1/1 [==============================] - 0s 139ms/step\n",
      "1/1 [==============================] - 0s 136ms/step\n",
      "1/1 [==============================] - 0s 140ms/step\n",
      "True\n",
      "1/1 [==============================] - 0s 141ms/step\n",
      "1/1 [==============================] - 0s 142ms/step\n",
      "1/1 [==============================] - 0s 138ms/step\n",
      "1/1 [==============================] - 0s 143ms/step\n",
      "1/1 [==============================] - 0s 139ms/step\n",
      "1/1 [==============================] - 0s 134ms/step\n",
      "1/1 [==============================] - 0s 135ms/step\n",
      "1/1 [==============================] - 0s 164ms/step\n",
      "1/1 [==============================] - 0s 141ms/step\n",
      "1/1 [==============================] - 0s 147ms/step\n",
      "1/1 [==============================] - 0s 146ms/step\n"
     ]
    },
    {
     "name": "stdout",
     "output_type": "stream",
     "text": [
      "1/1 [==============================] - 0s 136ms/step\n",
      "1/1 [==============================] - 0s 142ms/step\n",
      "1/1 [==============================] - 0s 135ms/step\n",
      "1/1 [==============================] - 0s 146ms/step\n",
      "1/1 [==============================] - 0s 151ms/step\n",
      "1/1 [==============================] - 0s 149ms/step\n",
      "1/1 [==============================] - 0s 147ms/step\n",
      "1/1 [==============================] - 0s 144ms/step\n",
      "1/1 [==============================] - 0s 135ms/step\n",
      "1/1 [==============================] - 0s 135ms/step\n",
      "1/1 [==============================] - 0s 136ms/step\n",
      "1/1 [==============================] - 0s 135ms/step\n",
      "1/1 [==============================] - 0s 135ms/step\n",
      "1/1 [==============================] - 0s 135ms/step\n",
      "1/1 [==============================] - 0s 136ms/step\n",
      "1/1 [==============================] - 0s 135ms/step\n",
      "True\n",
      "1/1 [==============================] - 0s 136ms/step\n",
      "1/1 [==============================] - 0s 136ms/step\n",
      "1/1 [==============================] - 0s 137ms/step\n",
      "1/1 [==============================] - 0s 136ms/step\n",
      "1/1 [==============================] - 0s 135ms/step\n",
      "1/1 [==============================] - 0s 136ms/step\n",
      "1/1 [==============================] - 0s 136ms/step\n",
      "1/1 [==============================] - 0s 136ms/step\n",
      "1/1 [==============================] - 0s 135ms/step\n",
      "1/1 [==============================] - 0s 137ms/step\n",
      "1/1 [==============================] - 0s 135ms/step\n",
      "1/1 [==============================] - 0s 134ms/step\n",
      "1/1 [==============================] - 0s 152ms/step\n",
      "1/1 [==============================] - 0s 147ms/step\n",
      "1/1 [==============================] - 0s 137ms/step\n",
      "1/1 [==============================] - 0s 153ms/step\n",
      "1/1 [==============================] - 0s 142ms/step\n",
      "1/1 [==============================] - 0s 137ms/step\n",
      "1/1 [==============================] - 0s 139ms/step\n",
      "1/1 [==============================] - 0s 146ms/step\n",
      "1/1 [==============================] - 0s 143ms/step\n",
      "1/1 [==============================] - 0s 146ms/step\n",
      "1/1 [==============================] - 0s 143ms/step\n",
      "1/1 [==============================] - 0s 142ms/step\n",
      "1/1 [==============================] - 0s 145ms/step\n",
      "1/1 [==============================] - 0s 146ms/step\n",
      "1/1 [==============================] - 0s 144ms/step\n",
      "True\n",
      "1/1 [==============================] - 0s 285ms/step\n",
      "1/1 [==============================] - 0s 156ms/step\n",
      "1/1 [==============================] - 0s 136ms/step\n",
      "1/1 [==============================] - 0s 147ms/step\n",
      "1/1 [==============================] - 0s 142ms/step\n",
      "1/1 [==============================] - 0s 137ms/step\n",
      "1/1 [==============================] - 0s 137ms/step\n",
      "1/1 [==============================] - 0s 142ms/step\n",
      "1/1 [==============================] - 0s 146ms/step\n",
      "1/1 [==============================] - 0s 142ms/step\n",
      "1/1 [==============================] - 0s 141ms/step\n",
      "1/1 [==============================] - 0s 137ms/step\n",
      "1/1 [==============================] - 0s 138ms/step\n",
      "1/1 [==============================] - 0s 139ms/step\n",
      "1/1 [==============================] - 0s 143ms/step\n",
      "1/1 [==============================] - 0s 142ms/step\n",
      "1/1 [==============================] - 0s 140ms/step\n",
      "1/1 [==============================] - 0s 140ms/step\n",
      "1/1 [==============================] - 0s 135ms/step\n",
      "1/1 [==============================] - 0s 136ms/step\n",
      "1/1 [==============================] - 0s 138ms/step\n",
      "1/1 [==============================] - 0s 141ms/step\n",
      "1/1 [==============================] - 0s 139ms/step\n",
      "1/1 [==============================] - 0s 143ms/step\n",
      "1/1 [==============================] - 0s 155ms/step\n",
      "1/1 [==============================] - 0s 137ms/step\n",
      "1/1 [==============================] - 0s 137ms/step\n",
      "True\n",
      "1/1 [==============================] - 0s 137ms/step\n",
      "1/1 [==============================] - 0s 139ms/step\n",
      "1/1 [==============================] - 0s 136ms/step\n",
      "1/1 [==============================] - 0s 138ms/step\n",
      "1/1 [==============================] - 0s 137ms/step\n",
      "1/1 [==============================] - 0s 134ms/step\n",
      "1/1 [==============================] - 0s 136ms/step\n",
      "1/1 [==============================] - 0s 139ms/step\n",
      "1/1 [==============================] - 0s 135ms/step\n",
      "1/1 [==============================] - 0s 140ms/step\n",
      "1/1 [==============================] - 0s 135ms/step\n",
      "1/1 [==============================] - 0s 138ms/step\n",
      "1/1 [==============================] - 0s 139ms/step\n",
      "1/1 [==============================] - 0s 137ms/step\n",
      "1/1 [==============================] - 0s 136ms/step\n",
      "1/1 [==============================] - 0s 136ms/step\n",
      "1/1 [==============================] - 0s 136ms/step\n",
      "1/1 [==============================] - 0s 135ms/step\n",
      "1/1 [==============================] - 0s 136ms/step\n",
      "1/1 [==============================] - 0s 137ms/step\n",
      "1/1 [==============================] - 0s 139ms/step\n",
      "1/1 [==============================] - 0s 136ms/step\n",
      "1/1 [==============================] - 0s 138ms/step\n",
      "1/1 [==============================] - 0s 134ms/step\n",
      "1/1 [==============================] - 0s 137ms/step\n",
      "1/1 [==============================] - 0s 135ms/step\n",
      "1/1 [==============================] - 0s 137ms/step\n",
      "True\n",
      "1/1 [==============================] - 0s 141ms/step\n",
      "1/1 [==============================] - 0s 144ms/step\n",
      "1/1 [==============================] - 0s 139ms/step\n",
      "1/1 [==============================] - 0s 136ms/step\n",
      "1/1 [==============================] - 0s 135ms/step\n",
      "1/1 [==============================] - 0s 136ms/step\n",
      "1/1 [==============================] - 0s 138ms/step\n",
      "1/1 [==============================] - 0s 140ms/step\n",
      "1/1 [==============================] - 0s 139ms/step\n",
      "1/1 [==============================] - 0s 138ms/step\n",
      "1/1 [==============================] - 0s 137ms/step\n",
      "1/1 [==============================] - 0s 134ms/step\n",
      "1/1 [==============================] - 0s 136ms/step\n",
      "1/1 [==============================] - 0s 134ms/step\n",
      "1/1 [==============================] - 0s 136ms/step\n",
      "1/1 [==============================] - 0s 137ms/step\n",
      "1/1 [==============================] - 0s 137ms/step\n",
      "1/1 [==============================] - 0s 135ms/step\n",
      "1/1 [==============================] - 0s 133ms/step\n",
      "1/1 [==============================] - 0s 135ms/step\n",
      "1/1 [==============================] - 0s 136ms/step\n",
      "1/1 [==============================] - 0s 136ms/step\n",
      "1/1 [==============================] - 0s 135ms/step\n",
      "1/1 [==============================] - 0s 136ms/step\n",
      "1/1 [==============================] - 0s 138ms/step\n",
      "1/1 [==============================] - 0s 136ms/step\n",
      "1/1 [==============================] - 0s 183ms/step\n",
      "True\n"
     ]
    }
   ],
   "source": [
    "cap = cv2.VideoCapture(0-0)\n",
    "while cap.isOpened():\n",
    "    ret, frame = cap.read()\n",
    "    \n",
    "    cv2.imshow('Verification', frame)\n",
    "    \n",
    "    #Verification trigger\n",
    "    if cv2.waitKey(1) & 0xFF == ord('v'):\n",
    "        #Save input image to input_image directory\n",
    "        cv2.imwrite(os.path.join('application_data', 'input_image', 'input_image.jpg'), frame)\n",
    "        \n",
    "        #Run verification\n",
    "        results, verified = verify(siamese_model, 0.5, 0.5)\n",
    "        print(verified)\n",
    "    \n",
    "    \n",
    "    if cv2.waitKey(10) & 0xFF == ord('q'):\n",
    "        break\n",
    "        \n",
    "    cap.release\n",
    "    cv2.destroyAllWindows()"
   ]
  },
  {
   "cell_type": "code",
   "execution_count": 150,
   "id": "92237528",
   "metadata": {
    "collapsed": true
   },
   "outputs": [
    {
     "data": {
      "text/plain": [
       "[array([[0.9990676]], dtype=float32),\n",
       " array([[0.99859554]], dtype=float32),\n",
       " array([[0.9985512]], dtype=float32),\n",
       " array([[0.9990669]], dtype=float32),\n",
       " array([[0.9992262]], dtype=float32),\n",
       " array([[0.99600327]], dtype=float32),\n",
       " array([[0.9242904]], dtype=float32),\n",
       " array([[0.99912214]], dtype=float32),\n",
       " array([[0.99829566]], dtype=float32),\n",
       " array([[0.99948597]], dtype=float32),\n",
       " array([[0.998716]], dtype=float32),\n",
       " array([[0.9977762]], dtype=float32),\n",
       " array([[0.760484]], dtype=float32),\n",
       " array([[0.99931103]], dtype=float32),\n",
       " array([[0.99934137]], dtype=float32),\n",
       " array([[0.99882686]], dtype=float32),\n",
       " array([[0.99892056]], dtype=float32),\n",
       " array([[0.99891436]], dtype=float32),\n",
       " array([[0.9982477]], dtype=float32),\n",
       " array([[0.10265335]], dtype=float32),\n",
       " array([[0.33342344]], dtype=float32),\n",
       " array([[0.9994879]], dtype=float32),\n",
       " array([[0.95764935]], dtype=float32),\n",
       " array([[0.9994408]], dtype=float32),\n",
       " array([[0.9996517]], dtype=float32),\n",
       " array([[0.9991101]], dtype=float32),\n",
       " array([[0.16437374]], dtype=float32)]"
      ]
     },
     "execution_count": 150,
     "metadata": {},
     "output_type": "execute_result"
    }
   ],
   "source": [
    "results"
   ]
  },
  {
   "cell_type": "code",
   "execution_count": null,
   "id": "a127185c",
   "metadata": {},
   "outputs": [],
   "source": []
  },
  {
   "cell_type": "code",
   "execution_count": null,
   "id": "f3854921",
   "metadata": {},
   "outputs": [],
   "source": []
  }
 ],
 "metadata": {
  "kernelspec": {
   "display_name": "Python 3 (ipykernel)",
   "language": "python",
   "name": "python3"
  },
  "language_info": {
   "codemirror_mode": {
    "name": "ipython",
    "version": 3
   },
   "file_extension": ".py",
   "mimetype": "text/x-python",
   "name": "python",
   "nbconvert_exporter": "python",
   "pygments_lexer": "ipython3",
   "version": "3.11.4"
  }
 },
 "nbformat": 4,
 "nbformat_minor": 5
}
